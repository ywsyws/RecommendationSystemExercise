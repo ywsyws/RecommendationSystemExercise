{
 "cells": [
  {
   "cell_type": "markdown",
   "metadata": {
    "colab_type": "text",
    "id": "view-in-github"
   },
   "source": [
    "<a href=\"https://colab.research.google.com/github/ywsyws/RecommendationSystemExercise/blob/main/olist_NCF_colab.ipynb\" target=\"_parent\"><img src=\"https://colab.research.google.com/assets/colab-badge.svg\" alt=\"Open In Colab\"/></a>"
   ]
  },
  {
   "cell_type": "markdown",
   "metadata": {
    "id": "rc18A1hAq9R7"
   },
   "source": [
    "# Import Library and Data"
   ]
  },
  {
   "cell_type": "code",
   "execution_count": 1,
   "metadata": {
    "colab": {
     "base_uri": "https://localhost:8080/"
    },
    "id": "qEgwmnqPqceU",
    "outputId": "62e9b9a1-9eb8-4ce4-bc59-2e9308778191"
   },
   "outputs": [
    {
     "name": "stdout",
     "output_type": "stream",
     "text": [
      "Collecting pytorch_lightning\n",
      "  Downloading pytorch_lightning-1.5.1-py3-none-any.whl (1.0 MB)\n",
      "\u001b[K     |████████████████████████████████| 1.0 MB 5.3 MB/s \n",
      "\u001b[?25hRequirement already satisfied: tensorboard>=2.2.0 in /usr/local/lib/python3.7/dist-packages (from pytorch_lightning) (2.7.0)\n",
      "Requirement already satisfied: typing-extensions in /usr/local/lib/python3.7/dist-packages (from pytorch_lightning) (3.10.0.2)\n",
      "Collecting torchmetrics>=0.4.1\n",
      "  Downloading torchmetrics-0.6.0-py3-none-any.whl (329 kB)\n",
      "\u001b[K     |████████████████████████████████| 329 kB 46.8 MB/s \n",
      "\u001b[?25hRequirement already satisfied: torch>=1.6 in /usr/local/lib/python3.7/dist-packages (from pytorch_lightning) (1.10.0+cu111)\n",
      "Collecting future>=0.17.1\n",
      "  Downloading future-0.18.2.tar.gz (829 kB)\n",
      "\u001b[K     |████████████████████████████████| 829 kB 37.5 MB/s \n",
      "\u001b[?25hRequirement already satisfied: packaging>=17.0 in /usr/local/lib/python3.7/dist-packages (from pytorch_lightning) (21.2)\n",
      "Collecting fsspec[http]!=2021.06.0,>=2021.05.0\n",
      "  Downloading fsspec-2021.11.0-py3-none-any.whl (132 kB)\n",
      "\u001b[K     |████████████████████████████████| 132 kB 46.9 MB/s \n",
      "\u001b[?25hCollecting pyDeprecate==0.3.1\n",
      "  Downloading pyDeprecate-0.3.1-py3-none-any.whl (10 kB)\n",
      "Requirement already satisfied: tqdm>=4.41.0 in /usr/local/lib/python3.7/dist-packages (from pytorch_lightning) (4.62.3)\n",
      "Collecting PyYAML>=5.1\n",
      "  Downloading PyYAML-6.0-cp37-cp37m-manylinux_2_5_x86_64.manylinux1_x86_64.manylinux_2_12_x86_64.manylinux2010_x86_64.whl (596 kB)\n",
      "\u001b[K     |████████████████████████████████| 596 kB 41.2 MB/s \n",
      "\u001b[?25hRequirement already satisfied: numpy>=1.17.2 in /usr/local/lib/python3.7/dist-packages (from pytorch_lightning) (1.19.5)\n",
      "Requirement already satisfied: requests in /usr/local/lib/python3.7/dist-packages (from fsspec[http]!=2021.06.0,>=2021.05.0->pytorch_lightning) (2.23.0)\n",
      "Collecting aiohttp\n",
      "  Downloading aiohttp-3.8.0-cp37-cp37m-manylinux_2_5_x86_64.manylinux1_x86_64.manylinux_2_12_x86_64.manylinux2010_x86_64.whl (1.1 MB)\n",
      "\u001b[K     |████████████████████████████████| 1.1 MB 44.7 MB/s \n",
      "\u001b[?25hRequirement already satisfied: pyparsing<3,>=2.0.2 in /usr/local/lib/python3.7/dist-packages (from packaging>=17.0->pytorch_lightning) (2.4.7)\n",
      "Requirement already satisfied: protobuf>=3.6.0 in /usr/local/lib/python3.7/dist-packages (from tensorboard>=2.2.0->pytorch_lightning) (3.17.3)\n",
      "Requirement already satisfied: google-auth-oauthlib<0.5,>=0.4.1 in /usr/local/lib/python3.7/dist-packages (from tensorboard>=2.2.0->pytorch_lightning) (0.4.6)\n",
      "Requirement already satisfied: absl-py>=0.4 in /usr/local/lib/python3.7/dist-packages (from tensorboard>=2.2.0->pytorch_lightning) (0.12.0)\n",
      "Requirement already satisfied: wheel>=0.26 in /usr/local/lib/python3.7/dist-packages (from tensorboard>=2.2.0->pytorch_lightning) (0.37.0)\n",
      "Requirement already satisfied: markdown>=2.6.8 in /usr/local/lib/python3.7/dist-packages (from tensorboard>=2.2.0->pytorch_lightning) (3.3.4)\n",
      "Requirement already satisfied: setuptools>=41.0.0 in /usr/local/lib/python3.7/dist-packages (from tensorboard>=2.2.0->pytorch_lightning) (57.4.0)\n",
      "Requirement already satisfied: werkzeug>=0.11.15 in /usr/local/lib/python3.7/dist-packages (from tensorboard>=2.2.0->pytorch_lightning) (1.0.1)\n",
      "Requirement already satisfied: tensorboard-plugin-wit>=1.6.0 in /usr/local/lib/python3.7/dist-packages (from tensorboard>=2.2.0->pytorch_lightning) (1.8.0)\n",
      "Requirement already satisfied: grpcio>=1.24.3 in /usr/local/lib/python3.7/dist-packages (from tensorboard>=2.2.0->pytorch_lightning) (1.41.1)\n",
      "Requirement already satisfied: google-auth<3,>=1.6.3 in /usr/local/lib/python3.7/dist-packages (from tensorboard>=2.2.0->pytorch_lightning) (1.35.0)\n",
      "Requirement already satisfied: tensorboard-data-server<0.7.0,>=0.6.0 in /usr/local/lib/python3.7/dist-packages (from tensorboard>=2.2.0->pytorch_lightning) (0.6.1)\n",
      "Requirement already satisfied: six in /usr/local/lib/python3.7/dist-packages (from absl-py>=0.4->tensorboard>=2.2.0->pytorch_lightning) (1.15.0)\n",
      "Requirement already satisfied: pyasn1-modules>=0.2.1 in /usr/local/lib/python3.7/dist-packages (from google-auth<3,>=1.6.3->tensorboard>=2.2.0->pytorch_lightning) (0.2.8)\n",
      "Requirement already satisfied: rsa<5,>=3.1.4 in /usr/local/lib/python3.7/dist-packages (from google-auth<3,>=1.6.3->tensorboard>=2.2.0->pytorch_lightning) (4.7.2)\n",
      "Requirement already satisfied: cachetools<5.0,>=2.0.0 in /usr/local/lib/python3.7/dist-packages (from google-auth<3,>=1.6.3->tensorboard>=2.2.0->pytorch_lightning) (4.2.4)\n",
      "Requirement already satisfied: requests-oauthlib>=0.7.0 in /usr/local/lib/python3.7/dist-packages (from google-auth-oauthlib<0.5,>=0.4.1->tensorboard>=2.2.0->pytorch_lightning) (1.3.0)\n",
      "Requirement already satisfied: importlib-metadata in /usr/local/lib/python3.7/dist-packages (from markdown>=2.6.8->tensorboard>=2.2.0->pytorch_lightning) (4.8.2)\n",
      "Requirement already satisfied: pyasn1<0.5.0,>=0.4.6 in /usr/local/lib/python3.7/dist-packages (from pyasn1-modules>=0.2.1->google-auth<3,>=1.6.3->tensorboard>=2.2.0->pytorch_lightning) (0.4.8)\n",
      "Requirement already satisfied: idna<3,>=2.5 in /usr/local/lib/python3.7/dist-packages (from requests->fsspec[http]!=2021.06.0,>=2021.05.0->pytorch_lightning) (2.10)\n",
      "Requirement already satisfied: urllib3!=1.25.0,!=1.25.1,<1.26,>=1.21.1 in /usr/local/lib/python3.7/dist-packages (from requests->fsspec[http]!=2021.06.0,>=2021.05.0->pytorch_lightning) (1.24.3)\n",
      "Requirement already satisfied: certifi>=2017.4.17 in /usr/local/lib/python3.7/dist-packages (from requests->fsspec[http]!=2021.06.0,>=2021.05.0->pytorch_lightning) (2021.10.8)\n",
      "Requirement already satisfied: chardet<4,>=3.0.2 in /usr/local/lib/python3.7/dist-packages (from requests->fsspec[http]!=2021.06.0,>=2021.05.0->pytorch_lightning) (3.0.4)\n",
      "Requirement already satisfied: oauthlib>=3.0.0 in /usr/local/lib/python3.7/dist-packages (from requests-oauthlib>=0.7.0->google-auth-oauthlib<0.5,>=0.4.1->tensorboard>=2.2.0->pytorch_lightning) (3.1.1)\n",
      "Collecting frozenlist>=1.1.1\n",
      "  Downloading frozenlist-1.2.0-cp37-cp37m-manylinux_2_5_x86_64.manylinux1_x86_64.manylinux_2_12_x86_64.manylinux2010_x86_64.whl (192 kB)\n",
      "\u001b[K     |████████████████████████████████| 192 kB 44.7 MB/s \n",
      "\u001b[?25hRequirement already satisfied: attrs>=17.3.0 in /usr/local/lib/python3.7/dist-packages (from aiohttp->fsspec[http]!=2021.06.0,>=2021.05.0->pytorch_lightning) (21.2.0)\n",
      "Collecting aiosignal>=1.1.2\n",
      "  Downloading aiosignal-1.2.0-py3-none-any.whl (8.2 kB)\n",
      "Collecting yarl<2.0,>=1.0\n",
      "  Downloading yarl-1.7.2-cp37-cp37m-manylinux_2_5_x86_64.manylinux1_x86_64.manylinux_2_12_x86_64.manylinux2010_x86_64.whl (271 kB)\n",
      "\u001b[K     |████████████████████████████████| 271 kB 43.9 MB/s \n",
      "\u001b[?25hRequirement already satisfied: charset-normalizer<3.0,>=2.0 in /usr/local/lib/python3.7/dist-packages (from aiohttp->fsspec[http]!=2021.06.0,>=2021.05.0->pytorch_lightning) (2.0.7)\n",
      "Collecting asynctest==0.13.0\n",
      "  Downloading asynctest-0.13.0-py3-none-any.whl (26 kB)\n",
      "Collecting multidict<7.0,>=4.5\n",
      "  Downloading multidict-5.2.0-cp37-cp37m-manylinux_2_5_x86_64.manylinux1_x86_64.manylinux_2_12_x86_64.manylinux2010_x86_64.whl (160 kB)\n",
      "\u001b[K     |████████████████████████████████| 160 kB 47.1 MB/s \n",
      "\u001b[?25hCollecting async-timeout<5.0,>=4.0.0a3\n",
      "  Downloading async_timeout-4.0.1-py3-none-any.whl (5.7 kB)\n",
      "Requirement already satisfied: zipp>=0.5 in /usr/local/lib/python3.7/dist-packages (from importlib-metadata->markdown>=2.6.8->tensorboard>=2.2.0->pytorch_lightning) (3.6.0)\n",
      "Building wheels for collected packages: future\n",
      "  Building wheel for future (setup.py) ... \u001b[?25l\u001b[?25hdone\n",
      "  Created wheel for future: filename=future-0.18.2-py3-none-any.whl size=491070 sha256=4ab187ca91b02a6a99e3d5450b1963f6f0c5eb2b3c3597255b83b16f21133115\n",
      "  Stored in directory: /root/.cache/pip/wheels/56/b0/fe/4410d17b32f1f0c3cf54cdfb2bc04d7b4b8f4ae377e2229ba0\n",
      "Successfully built future\n",
      "Installing collected packages: multidict, frozenlist, yarl, asynctest, async-timeout, aiosignal, fsspec, aiohttp, torchmetrics, PyYAML, pyDeprecate, future, pytorch-lightning\n",
      "  Attempting uninstall: PyYAML\n",
      "    Found existing installation: PyYAML 3.13\n",
      "    Uninstalling PyYAML-3.13:\n",
      "      Successfully uninstalled PyYAML-3.13\n",
      "  Attempting uninstall: future\n",
      "    Found existing installation: future 0.16.0\n",
      "    Uninstalling future-0.16.0:\n",
      "      Successfully uninstalled future-0.16.0\n",
      "Successfully installed PyYAML-6.0 aiohttp-3.8.0 aiosignal-1.2.0 async-timeout-4.0.1 asynctest-0.13.0 frozenlist-1.2.0 fsspec-2021.11.0 future-0.18.2 multidict-5.2.0 pyDeprecate-0.3.1 pytorch-lightning-1.5.1 torchmetrics-0.6.0 yarl-1.7.2\n"
     ]
    }
   ],
   "source": [
    "!pip install pytorch_lightning"
   ]
  },
  {
   "cell_type": "code",
   "execution_count": 2,
   "metadata": {
    "id": "WoAXgTJGqAXa"
   },
   "outputs": [],
   "source": [
    "import matplotlib.pyplot as plt\n",
    "import numpy as np\n",
    "import pandas as pd\n",
    "import pytorch_lightning as pl\n",
    "import seaborn as sns\n",
    "import torch\n",
    "import torch.nn as nn\n",
    "from pytorch_lightning.callbacks.progress import TQDMProgressBar\n",
    "from sklearn.preprocessing import LabelEncoder\n",
    "from torch.utils.data import Dataset, DataLoader\n",
    "from torchmetrics import RetrievalMAP, RetrievalMRR, RetrievalPrecision, RetrievalRecall\n",
    "from typing import Union\n",
    "\n",
    "np.random.seed(123)\n",
    "pd.options.mode.chained_assignment = None"
   ]
  },
  {
   "cell_type": "code",
   "execution_count": 3,
   "metadata": {
    "colab": {
     "base_uri": "https://localhost:8080/"
    },
    "id": "fczBg0Uvqn3J",
    "outputId": "1800a73a-00fc-4176-a3f2-7a0c230bb8db"
   },
   "outputs": [
    {
     "data": {
      "text/plain": [
       "(112650, 6)"
      ]
     },
     "execution_count": 3,
     "metadata": {},
     "output_type": "execute_result"
    }
   ],
   "source": [
    "# import dataset\n",
    "df = pd.read_csv('df_cleaned.csv')\n",
    "df.shape"
   ]
  },
  {
   "cell_type": "code",
   "execution_count": 4,
   "metadata": {
    "colab": {
     "base_uri": "https://localhost:8080/",
     "height": 204
    },
    "id": "lu63_RfDq4v0",
    "outputId": "34974af9-1a2f-413d-af50-d873109fe896"
   },
   "outputs": [
    {
     "data": {
      "text/html": [
       "<div>\n",
       "<style scoped>\n",
       "    .dataframe tbody tr th:only-of-type {\n",
       "        vertical-align: middle;\n",
       "    }\n",
       "\n",
       "    .dataframe tbody tr th {\n",
       "        vertical-align: top;\n",
       "    }\n",
       "\n",
       "    .dataframe thead th {\n",
       "        text-align: right;\n",
       "    }\n",
       "</style>\n",
       "<table border=\"1\" class=\"dataframe\">\n",
       "  <thead>\n",
       "    <tr style=\"text-align: right;\">\n",
       "      <th></th>\n",
       "      <th>customer_id</th>\n",
       "      <th>customer_city</th>\n",
       "      <th>order_purchase_timestamp</th>\n",
       "      <th>product_id</th>\n",
       "      <th>product_weight_g</th>\n",
       "      <th>purchase</th>\n",
       "    </tr>\n",
       "  </thead>\n",
       "  <tbody>\n",
       "    <tr>\n",
       "      <th>0</th>\n",
       "      <td>50044</td>\n",
       "      <td>1379</td>\n",
       "      <td>2017-05-16 15:05:35</td>\n",
       "      <td>21694</td>\n",
       "      <td>8683.0</td>\n",
       "      <td>1</td>\n",
       "    </tr>\n",
       "    <tr>\n",
       "      <th>1</th>\n",
       "      <td>15329</td>\n",
       "      <td>3420</td>\n",
       "      <td>2018-01-12 20:48:24</td>\n",
       "      <td>9721</td>\n",
       "      <td>10150.0</td>\n",
       "      <td>1</td>\n",
       "    </tr>\n",
       "    <tr>\n",
       "      <th>2</th>\n",
       "      <td>2253</td>\n",
       "      <td>3588</td>\n",
       "      <td>2018-05-19 16:07:45</td>\n",
       "      <td>24283</td>\n",
       "      <td>8267.0</td>\n",
       "      <td>1</td>\n",
       "    </tr>\n",
       "    <tr>\n",
       "      <th>3</th>\n",
       "      <td>14097</td>\n",
       "      <td>2336</td>\n",
       "      <td>2018-03-13 16:06:38</td>\n",
       "      <td>21209</td>\n",
       "      <td>12160.0</td>\n",
       "      <td>1</td>\n",
       "    </tr>\n",
       "    <tr>\n",
       "      <th>4</th>\n",
       "      <td>19599</td>\n",
       "      <td>705</td>\n",
       "      <td>2018-07-29 09:51:30</td>\n",
       "      <td>18959</td>\n",
       "      <td>5200.0</td>\n",
       "      <td>1</td>\n",
       "    </tr>\n",
       "  </tbody>\n",
       "</table>\n",
       "</div>"
      ],
      "text/plain": [
       "   customer_id  customer_city  ... product_weight_g  purchase\n",
       "0        50044           1379  ...           8683.0         1\n",
       "1        15329           3420  ...          10150.0         1\n",
       "2         2253           3588  ...           8267.0         1\n",
       "3        14097           2336  ...          12160.0         1\n",
       "4        19599            705  ...           5200.0         1\n",
       "\n",
       "[5 rows x 6 columns]"
      ]
     },
     "execution_count": 4,
     "metadata": {},
     "output_type": "execute_result"
    }
   ],
   "source": [
    "df.head()"
   ]
  },
  {
   "cell_type": "markdown",
   "metadata": {
    "id": "WNyxVHfXrCQw"
   },
   "source": [
    "# Helper Functions"
   ]
  },
  {
   "cell_type": "code",
   "execution_count": 5,
   "metadata": {
    "id": "bEsVAREjq8U8"
   },
   "outputs": [],
   "source": [
    "def sparsity(user_id: pd.Series, item_id: pd.Series, decimal: int):\n",
    "    n_users = user_id.nunique()\n",
    "    n_items = item_id.nunique()\n",
    "    print(f\"Number of customers: {n_users}\")\n",
    "    print(f\"Number of products: {n_items}\")\n",
    "    sparsity = round(1 - len(df) / (n_users * n_items), decimal)\n",
    "    print(f\"The sparsity level of the original df is {sparsity*100}%\")\n",
    "\n",
    "def rank_product_count(item: pd.Series) -> pd.DataFrame:\n",
    "    df = item.value_counts().reset_index()\n",
    "    df.columns = [df.columns[1], \"counts\"]\n",
    "    return df\n",
    "\n",
    "def plot_pdt_counts(item: pd.Series, cutoff: float, xlim: int = None):\n",
    "    df = rank_product_count(item)\n",
    "    df[\"counts_ratio\"] = df.counts.cumsum() / df.counts.sum()\n",
    "\n",
    "    # plot product counts\n",
    "    plt.plot(df.counts)\n",
    "\n",
    "    # plot vertical cutoff line\n",
    "    head = df[df.counts_ratio <= cutoff]\n",
    "    tail = df[df.counts_ratio > cutoff]\n",
    "    n_head = len(head)\n",
    "    n_tail = len(tail)\n",
    "    plt.axvline(x=n_head, color=\"r\", linestyle=\"--\")\n",
    "\n",
    "    # fill area\n",
    "    x1 = head.index.values\n",
    "    y1 = head.counts\n",
    "    x2 = tail.index.values\n",
    "    y2 = tail.counts\n",
    "\n",
    "    plt.fill_between(x1, y1, color=\"blue\", alpha=0.3)\n",
    "    plt.fill_between(x2, y2, color=\"grey\", alpha=0.3)\n",
    "\n",
    "    # set labels\n",
    "    plt.title(\"Product Counts Plot\")\n",
    "    plt.ylabel(\"# of Purchase\")\n",
    "    plt.xlabel(\"# of Product\")\n",
    "    if not xlim:\n",
    "        xlim = len(df)\n",
    "    plt.xlim(0, xlim)\n",
    "\n",
    "    plt.show()"
   ]
  },
  {
   "cell_type": "markdown",
   "metadata": {
    "id": "WyJp5HQvrUKW"
   },
   "source": [
    "# Data Analysis"
   ]
  },
  {
   "cell_type": "code",
   "execution_count": 6,
   "metadata": {
    "colab": {
     "base_uri": "https://localhost:8080/"
    },
    "id": "aFY7iA8_rS5O",
    "outputId": "a0f1f3d9-889f-43a3-d1c8-fdcccff5fc96"
   },
   "outputs": [
    {
     "name": "stdout",
     "output_type": "stream",
     "text": [
      "Number of customers: 95420\n",
      "Number of products: 32951\n",
      "The sparsity level of the original df is 99.9964%\n"
     ]
    }
   ],
   "source": [
    "# check sparsity\n",
    "sparsity(df.customer_id, df.product_id,6)"
   ]
  },
  {
   "cell_type": "code",
   "execution_count": 7,
   "metadata": {
    "colab": {
     "base_uri": "https://localhost:8080/",
     "height": 295
    },
    "id": "OTX6yOryrWr0",
    "outputId": "18d976b1-e260-46c8-8003-56606c940de2"
   },
   "outputs": [
    {
     "data": {
      "image/png": "[encoded data removed]",
      "text/plain": [
       "<Figure size 432x288 with 1 Axes>"
      ]
     },
     "metadata": {
      "needs_background": "light"
     },
     "output_type": "display_data"
    }
   ],
   "source": [
    "plot_pdt_counts(df.product_id, cutoff=0.1)"
   ]
  },
  {
   "cell_type": "code",
   "execution_count": 8,
   "metadata": {
    "colab": {
     "base_uri": "https://localhost:8080/",
     "height": 295
    },
    "id": "pSSZbXUArZsY",
    "outputId": "26e4803f-c59e-4b10-f060-416310359a3b"
   },
   "outputs": [
    {
     "data": {
      "image/png": "[encoded data removed]",
      "text/plain": [
       "<Figure size 432x288 with 1 Axes>"
      ]
     },
     "metadata": {
      "needs_background": "light"
     },
     "output_type": "display_data"
    }
   ],
   "source": [
    "plot_pdt_counts(df.product_id, cutoff=0.1, xlim=1500)"
   ]
  },
  {
   "cell_type": "markdown",
   "metadata": {
    "id": "KiU9N7v1rd0x"
   },
   "source": [
    "# Train Test Split"
   ]
  },
  {
   "cell_type": "code",
   "execution_count": 9,
   "metadata": {
    "id": "5Ms37X0VrbmH"
   },
   "outputs": [],
   "source": [
    "# convert 'order_purchase_timestamp' to datetime\n",
    "df['order_purchase_timestamp'] = pd.to_datetime(df['order_purchase_timestamp'])"
   ]
  },
  {
   "cell_type": "code",
   "execution_count": 10,
   "metadata": {
    "id": "1OnrXuUxrgnV"
   },
   "outputs": [],
   "source": [
    "def split_train_test(df: pd.DataFrame, user:str, time:str) -> Union[pd.DataFrame]:\n",
    "    # leave one out\n",
    "    df[\"rank_latest\"] = df.groupby([user])[time].rank(\n",
    "        method=\"first\", ascending=False\n",
    "    )\n",
    "    train = df[df.rank_latest != 1]\n",
    "    test = df[df.rank_latest == 1]\n",
    "    \n",
    "    # keep only useful columns\n",
    "    train.drop(columns=[time, 'rank_latest'], inplace=True)\n",
    "    test.drop(columns=[time, 'rank_latest'], inplace=True)\n",
    "    \n",
    "    print(f'Shape of the train set: {train.shape}')\n",
    "    print(f'Shape of the test set: {test.shape}')\n",
    "    \n",
    "    return train, test"
   ]
  },
  {
   "cell_type": "code",
   "execution_count": 11,
   "metadata": {
    "colab": {
     "base_uri": "https://localhost:8080/"
    },
    "id": "MNtNXB1triju",
    "outputId": "28e1739b-9fb1-482a-9fbf-196d88131303"
   },
   "outputs": [
    {
     "name": "stdout",
     "output_type": "stream",
     "text": [
      "Shape of the train set: (17230, 5)\n",
      "Shape of the test set: (95420, 5)\n"
     ]
    }
   ],
   "source": [
    "df_train, df_test = split_train_test(df, user='customer_id', time='order_purchase_timestamp')"
   ]
  },
  {
   "cell_type": "code",
   "execution_count": 12,
   "metadata": {
    "colab": {
     "base_uri": "https://localhost:8080/"
    },
    "id": "9wj7qBIprkju",
    "outputId": "5150e99b-db6a-447a-8620-86e4e7d8051d"
   },
   "outputs": [
    {
     "name": "stdout",
     "output_type": "stream",
     "text": [
      "Number of common users: 11869\n"
     ]
    }
   ],
   "source": [
    "print(f'Number of common users: {len(set(df_train.customer_id).intersection(df_test.customer_id))}')"
   ]
  },
  {
   "cell_type": "markdown",
   "metadata": {
    "id": "Bcsj_Mt9rskD"
   },
   "source": [
    "# Define PyTorch Dataset"
   ]
  },
  {
   "cell_type": "code",
   "execution_count": 13,
   "metadata": {
    "id": "bolbchLdrmvQ"
   },
   "outputs": [],
   "source": [
    "class BuildDataset(Dataset):\n",
    "    \"\"\"Build PyTorch Dataset for Training\n",
    "\n",
    "    Args:\n",
    "        df (pd.DataFrame): Dataframe containing the movie df\n",
    "        all_item_ids (list): List containing all movieIds\n",
    "\n",
    "    \"\"\"\n",
    "\n",
    "    def __init__(self, df: pd.DataFrame, all_item_ids):\n",
    "        \"\"\"\n",
    "        Balance and initialize the training data and labels\n",
    "        \"\"\"\n",
    "        (\n",
    "            self.users,\n",
    "            self.cities,\n",
    "            self.items,\n",
    "            self.weights,\n",
    "            self.labels,\n",
    "        ) = self.generate_neg(df, all_item_ids)\n",
    "\n",
    "    def __len__(self):\n",
    "        \"\"\"\n",
    "        Returns the number of samples in the training data\n",
    "        \"\"\"\n",
    "        return len(self.users)\n",
    "\n",
    "    def __getitem__(self, idx):\n",
    "        \"\"\"\n",
    "        Loads and returns a sample from the dataset with the given index.\n",
    "        \"\"\"\n",
    "        # user data\n",
    "        uid = self.users[idx]\n",
    "        city = self.cities[idx]\n",
    "\n",
    "        # item data\n",
    "        iid = self.items[idx]\n",
    "        weight = self.weights[idx]\n",
    "\n",
    "        sample = {\n",
    "            \"user_inputs\": {\"uid\": uid, \"city\": city},\n",
    "            \"item_inputs\": {\"iid\": iid, \"weight\": weight},\n",
    "            \"labels\": self.labels[idx],\n",
    "        }\n",
    "\n",
    "        return sample\n",
    "\n",
    "    def generate_neg(self, df, all_item_ids):\n",
    "        \"\"\"\n",
    "        Generate 4 random negative interactions for\n",
    "        every purchase (positive interaction)\n",
    "        \"\"\"\n",
    "        # training data placeholders\n",
    "        users, cities, items, weights, labels = [], [], [], [], []\n",
    "        # user-item interaction set that contains items that\n",
    "        # each user has interaction with\n",
    "        user_item_set = set(zip(df[\"customer_id\"], df[\"product_id\"]))\n",
    "\n",
    "        # 4:1 ratio of negative to positive samples\n",
    "        num_neg = 4  # can be tuned\n",
    "        for user, pos_item in user_item_set:\n",
    "            users.append(user)\n",
    "            cities.append(df[\"customer_city\"][df[\"customer_id\"] == user].iloc[0])\n",
    "            items.append(pos_item)\n",
    "            weights.append(df[\"product_weight_g\"][df[\"product_id\"] == pos_item].iloc[0])\n",
    "            labels.append(1)  # items that the user has interacted with are positive\n",
    "            for _ in range(num_neg):\n",
    "                # randomly select an item\n",
    "                neg_item = np.random.choice(all_item_ids)\n",
    "                # check that the user has not interacted with this item\n",
    "                while (user, neg_item) in user_item_set:\n",
    "                    neg_item = np.random.choice(all_item_ids)\n",
    "                users.append(user)\n",
    "                cities.append(df[\"customer_city\"][df[\"customer_id\"] == user].iloc[0])\n",
    "                items.append(neg_item)\n",
    "                weight_neg = df[\"product_weight_g\"][df[\"product_id\"] == neg_item]\n",
    "                if len(weight_neg) > 1:\n",
    "                    weights.append(weight_neg.iloc[0])\n",
    "                else:\n",
    "                    weights.append(weight_neg.item())\n",
    "                labels.append(0)  # items not interacted with are negative\n",
    "\n",
    "        return (\n",
    "            torch.tensor(users),\n",
    "            torch.tensor(cities),\n",
    "            torch.tensor(items),\n",
    "            torch.tensor(weights),\n",
    "            torch.tensor(labels),\n",
    "        )"
   ]
  },
  {
   "cell_type": "markdown",
   "metadata": {
    "id": "_hZHg4sGr70W"
   },
   "source": [
    "# Define Models"
   ]
  },
  {
   "cell_type": "code",
   "execution_count": 14,
   "metadata": {
    "id": "K7kbmRHXr0XK"
   },
   "outputs": [],
   "source": [
    "class TQDMProgressBar(TQDMProgressBar):\n",
    "    def init_train_tqdm(self):\n",
    "        bar = super().init_train_tqdm()\n",
    "        bar.refresh_rate = 50\n",
    "        return bar"
   ]
  },
  {
   "cell_type": "markdown",
   "metadata": {
    "id": "WfpJY4ccsBoC"
   },
   "source": [
    "## Simple NCF"
   ]
  },
  {
   "cell_type": "code",
   "execution_count": 15,
   "metadata": {
    "id": "F_HUafMTsAwd"
   },
   "outputs": [],
   "source": [
    "class NCF_simple(pl.LightningModule):\n",
    "    \"\"\"Neural Collaborative Filtering (NCF)\n",
    "\n",
    "    Args:\n",
    "        n_custs (int): Number of unique users\n",
    "        n_items (int): Number of unique items\n",
    "        df (pd.DataFrame): Dataframe containing the movie df for training\n",
    "        all_item_ids (list): List containing all movieIds (train + test)\n",
    "    \"\"\"\n",
    "\n",
    "    def __init__(self, attribute_max, df, all_item_ids, embed_dim=8, fc_size=64):\n",
    "        super(NCF_simple, self).__init__()\n",
    "\n",
    "        # user embeddings\n",
    "        self.embedding_uid = nn.Embedding(\n",
    "            num_embeddings=attribute_max[\"uid\"], embedding_dim=embed_dim\n",
    "        )\n",
    "        # item embeddings\n",
    "        self.embedding_iid = nn.Embedding(\n",
    "            num_embeddings=attribute_max[\"iid\"], embedding_dim=embed_dim\n",
    "        )\n",
    "        \n",
    "        # dense layer\n",
    "        self.fc1 = nn.Linear(in_features=16, out_features=64)\n",
    "        self.fc2 = nn.Linear(in_features=64, out_features=32)\n",
    "        self.output = nn.Linear(in_features=32, out_features=1)\n",
    "\n",
    "        # BatchNorm layer\n",
    "        self.BN = nn.BatchNorm1d(64)\n",
    "\n",
    "        self.df = df\n",
    "        self.all_item_ids = all_item_ids\n",
    "\n",
    "    def forward(self, train_user, train_item):\n",
    "\n",
    "        # unpack train_data\n",
    "        uid = train_user[\"uid\"]\n",
    "        city = train_user[\"city\"]\n",
    "\n",
    "        iid = train_item[\"iid\"]\n",
    "        weight = train_item[\"weight\"]\n",
    "\n",
    "        # Pass through embedding layers\n",
    "        user_embedded = self.embedding_uid(uid)\n",
    "        item_embedded = self.embedding_iid(iid)\n",
    "\n",
    "        # Concat the two embedding layers\n",
    "        x = torch.cat(\n",
    "            [user_embedded, item_embedded], dim=-1\n",
    "        )\n",
    "\n",
    "        # Pass through dense layer\n",
    "        x = nn.ReLU()(self.fc1(x))\n",
    "        x = self.BN(x)\n",
    "        x = nn.ReLU()(self.fc2(x))\n",
    "\n",
    "        # Output layer\n",
    "        pred = nn.Sigmoid()(self.output(x))\n",
    "\n",
    "        return pred\n",
    "\n",
    "    def training_step(self, batch, batch_idx):\n",
    "        predicted_labels = self(batch[\"user_inputs\"], batch[\"item_inputs\"])\n",
    "        loss = nn.BCELoss()(predicted_labels, batch[\"labels\"].view(-1, 1).float())\n",
    "        return loss\n",
    "\n",
    "    def configure_optimizers(self):\n",
    "        return torch.optim.Adam(self.parameters())\n",
    "\n",
    "    def train_dataloader(self):\n",
    "        return DataLoader(\n",
    "            BuildDataset(self.df, self.all_item_ids),\n",
    "            batch_size=512,\n",
    "            num_workers=4,\n",
    "        )"
   ]
  },
  {
   "cell_type": "markdown",
   "metadata": {
    "id": "6pf1OeYssaqK"
   },
   "source": [
    "## Upgrade NCF"
   ]
  },
  {
   "cell_type": "code",
   "execution_count": 16,
   "metadata": {
    "id": "6kdSIvHPsXK8"
   },
   "outputs": [],
   "source": [
    "class NCF(pl.LightningModule):\n",
    "    \"\"\"Neural Collaborative Filtering (NCF)\n",
    "\n",
    "    Args:\n",
    "        n_custs (int): Number of unique users\n",
    "        n_items (int): Number of unique items\n",
    "        df (pd.DataFrame): Dataframe containing the movie df for training\n",
    "        all_item_ids (list): List containing all movieIds (train + test)\n",
    "    \"\"\"\n",
    "\n",
    "    def __init__(self, attribute_max, df, all_item_ids, embed_dim=8, fc_size=64):\n",
    "        super(NCF, self).__init__()\n",
    "\n",
    "        # user embeddings\n",
    "        self.embedding_uid = nn.Embedding(\n",
    "            num_embeddings=attribute_max[\"uid\"], embedding_dim=embed_dim\n",
    "        )\n",
    "        self.embedding_city = nn.Embedding(\n",
    "            num_embeddings=attribute_max[\"city\"], embedding_dim=embed_dim\n",
    "        )\n",
    "\n",
    "        # item embeddings\n",
    "        self.embedding_iid = nn.Embedding(\n",
    "            num_embeddings=attribute_max[\"iid\"], embedding_dim=embed_dim\n",
    "        )\n",
    "        self.embedding_weight = nn.Embedding(\n",
    "            num_embeddings=attribute_max[\"weight\"], embedding_dim=embed_dim\n",
    "        )\n",
    "        \n",
    "        # dense layer\n",
    "        self.fc1 = nn.Linear(in_features=32, out_features=64)\n",
    "        self.fc2 = nn.Linear(in_features=64, out_features=32)\n",
    "        self.output = nn.Linear(in_features=32, out_features=1)\n",
    "\n",
    "        # BatchNorm layer\n",
    "        self.BN = nn.BatchNorm1d(64)\n",
    "\n",
    "        self.df = df\n",
    "        self.all_item_ids = all_item_ids\n",
    "\n",
    "    def forward(self, train_user, train_item):\n",
    "\n",
    "        # unpack train_data\n",
    "        uid = train_user[\"uid\"]\n",
    "        city = train_user[\"city\"]\n",
    "\n",
    "        iid = train_item[\"iid\"]\n",
    "        weight = train_item[\"weight\"]\n",
    "\n",
    "        # Pass through embedding layers\n",
    "        user_embedded = self.embedding_uid(uid)\n",
    "        city_embedded = self.embedding_city(city)\n",
    "        item_embedded = self.embedding_iid(iid)\n",
    "        weight_embedded = self.embedding_weight(weight.detach().clone().long())\n",
    "\n",
    "        # Concat the two embedding layers\n",
    "        x = torch.cat(\n",
    "            [user_embedded, city_embedded, item_embedded, weight_embedded], dim=-1\n",
    "        )\n",
    "\n",
    "        # Pass through dense layer\n",
    "        x = nn.ReLU()(self.fc1(x))\n",
    "        x = self.BN(x)\n",
    "        x = nn.ReLU()(self.fc2(x))\n",
    "\n",
    "        # Output layer\n",
    "        pred = nn.Sigmoid()(self.output(x))\n",
    "\n",
    "        return pred\n",
    "\n",
    "    def training_step(self, batch, batch_idx):\n",
    "        predicted_labels = self(batch[\"user_inputs\"], batch[\"item_inputs\"])\n",
    "        loss = nn.BCELoss()(predicted_labels, batch[\"labels\"].view(-1, 1).float())\n",
    "        return loss\n",
    "\n",
    "    def configure_optimizers(self):\n",
    "        return torch.optim.Adam(self.parameters())\n",
    "\n",
    "    def train_dataloader(self):\n",
    "        return DataLoader(\n",
    "            BuildDataset(self.df, self.all_item_ids),\n",
    "            batch_size=512,\n",
    "            num_workers=4,\n",
    "        )"
   ]
  },
  {
   "cell_type": "markdown",
   "metadata": {
    "id": "IAbAh_J1spQb"
   },
   "source": [
    "# Run and Inference Models"
   ]
  },
  {
   "cell_type": "code",
   "execution_count": 17,
   "metadata": {
    "id": "GYMytAMBUm0g"
   },
   "outputs": [],
   "source": [
    "# initialize metrics\n",
    "MAP = RetrievalMAP()\n",
    "MRR = RetrievalMRR()\n",
    "precision = RetrievalPrecision(k=10)\n",
    "recall = RetrievalRecall(k=10)"
   ]
  },
  {
   "cell_type": "markdown",
   "metadata": {
    "id": "DjUZVPn_tIQt"
   },
   "source": [
    "## Simple NCF"
   ]
  },
  {
   "cell_type": "code",
   "execution_count": 18,
   "metadata": {
    "colab": {
     "base_uri": "https://localhost:8080/",
     "height": 579,
     "referenced_widgets": [
      "be71bd916dac4085b06d1ff61415ab4f",
      "a4cd8eae9fb94caea98a04e70a69aeae",
      "9757b650bcdf42d1b0dc81fa7bc0771b",
      "38fd5549626f42cf83c7e5ae55187052",
      "26e675455c2048fd92a493abe9c571ae",
      "1af95e8ec1014cbd91832fced9701009",
      "c3d92c86a97a41b191a8e8fa5da3331b",
      "70eb5538b5924ef4b1bcb58d0c8c7f87",
      "9de1001366df4b039b956b5a594d3891",
      "9e5bfafdeab9412c9b2d714d7e16fe9c",
      "e5b6538266da4c2590cf98b09f2cb83f"
     ]
    },
    "id": "4IV4l7Sdskbu",
    "outputId": "6087da89-16c1-4ecf-cf9d-37d414ed0925"
   },
   "outputs": [
    {
     "name": "stderr",
     "output_type": "stream",
     "text": [
      "GPU available: True, used: True\n",
      "TPU available: False, using: 0 TPU cores\n",
      "IPU available: False, using: 0 IPUs\n",
      "LOCAL_RANK: 0 - CUDA_VISIBLE_DEVICES: [0]\n",
      "\n",
      "  | Name          | Type        | Params\n",
      "----------------------------------------------\n",
      "0 | embedding_uid | Embedding   | 763 K \n",
      "1 | embedding_iid | Embedding   | 263 K \n",
      "2 | fc1           | Linear      | 1.1 K \n",
      "3 | fc2           | Linear      | 2.1 K \n",
      "4 | output        | Linear      | 33    \n",
      "5 | BN            | BatchNorm1d | 128   \n",
      "----------------------------------------------\n",
      "1.0 M     Trainable params\n",
      "0         Non-trainable params\n",
      "1.0 M     Total params\n",
      "4.121     Total estimated model params size (MB)\n",
      "/usr/local/lib/python3.7/dist-packages/torch/utils/data/dataloader.py:481: UserWarning: This DataLoader will create 4 worker processes in total. Our suggested max number of worker in current system is 2, which is smaller than what this DataLoader is going to create. Please be aware that excessive worker creation might get DataLoader running slow or even freeze, lower the worker number to avoid potential slowness/freeze if necessary.\n",
      "  cpuset_checked))\n"
     ]
    },
    {
     "data": {
      "application/vnd.jupyter.widget-view+json": {
       "model_id": "be71bd916dac4085b06d1ff61415ab4f",
       "version_major": 2,
       "version_minor": 0
      },
      "text/plain": [
       "Training: 0it [00:00, ?it/s]"
      ]
     },
     "metadata": {},
     "output_type": "display_data"
    },
    {
     "name": "stderr",
     "output_type": "stream",
     "text": [
      "/usr/local/lib/python3.7/dist-packages/torch/utils/data/dataloader.py:481: UserWarning: This DataLoader will create 4 worker processes in total. Our suggested max number of worker in current system is 2, which is smaller than what this DataLoader is going to create. Please be aware that excessive worker creation might get DataLoader running slow or even freeze, lower the worker number to avoid potential slowness/freeze if necessary.\n",
      "  cpuset_checked))\n",
      "/usr/local/lib/python3.7/dist-packages/torch/utils/data/dataloader.py:481: UserWarning: This DataLoader will create 4 worker processes in total. Our suggested max number of worker in current system is 2, which is smaller than what this DataLoader is going to create. Please be aware that excessive worker creation might get DataLoader running slow or even freeze, lower the worker number to avoid potential slowness/freeze if necessary.\n",
      "  cpuset_checked))\n",
      "/usr/local/lib/python3.7/dist-packages/torch/utils/data/dataloader.py:481: UserWarning: This DataLoader will create 4 worker processes in total. Our suggested max number of worker in current system is 2, which is smaller than what this DataLoader is going to create. Please be aware that excessive worker creation might get DataLoader running slow or even freeze, lower the worker number to avoid potential slowness/freeze if necessary.\n",
      "  cpuset_checked))\n",
      "/usr/local/lib/python3.7/dist-packages/torch/utils/data/dataloader.py:481: UserWarning: This DataLoader will create 4 worker processes in total. Our suggested max number of worker in current system is 2, which is smaller than what this DataLoader is going to create. Please be aware that excessive worker creation might get DataLoader running slow or even freeze, lower the worker number to avoid potential slowness/freeze if necessary.\n",
      "  cpuset_checked))\n"
     ]
    },
    {
     "name": "stdout",
     "output_type": "stream",
     "text": [
      "CPU times: user 6min 14s, sys: 46.9 s, total: 7min 1s\n",
      "Wall time: 7min 20s\n"
     ]
    }
   ],
   "source": [
    "%%time\n",
    "attribute_max={\n",
    "    'uid': df.customer_id.max() + 1,\n",
    "    'city': df.customer_city.max() + 1,\n",
    "    'iid': df.product_id.max() + 1,\n",
    "    'weight': int(df.product_weight_g.max()) + 1,\n",
    "}\n",
    "\n",
    "# Get a list of all item IDs\n",
    "all_item_ids = df_train.product_id.unique()\n",
    "\n",
    "model_simple = NCF_simple(attribute_max, df_train, all_item_ids)\n",
    "\n",
    "trainer_simple = pl.Trainer(\n",
    "    max_epochs=5,\n",
    "    gpus=1,\n",
    "    reload_dataloaders_every_n_epochs=1,\n",
    "    logger=False,\n",
    "    callbacks=[TQDMProgressBar()],\n",
    "    enable_checkpointing=False,\n",
    ")\n",
    "\n",
    "trainer_simple.fit(model_simple)"
   ]
  },
  {
   "cell_type": "code",
   "execution_count": 19,
   "metadata": {
    "id": "CnfPMZAfu9Bg"
   },
   "outputs": [],
   "source": [
    "# save model\n",
    "model_simple_path = 'model_colab/simple_ncf.pt'\n",
    "torch.save(model_simple.state_dict(), model_simple_path)"
   ]
  },
  {
   "cell_type": "code",
   "execution_count": 20,
   "metadata": {
    "colab": {
     "base_uri": "https://localhost:8080/"
    },
    "id": "ccCmWW6Ks7FX",
    "outputId": "7740fb3e-ad85-4b0c-c64a-7f028aa0b00f"
   },
   "outputs": [
    {
     "name": "stderr",
     "output_type": "stream",
     "text": [
      "/usr/local/lib/python3.7/dist-packages/ipykernel_launcher.py:43: UserWarning: Creating a tensor from a list of numpy.ndarrays is extremely slow. Please consider converting the list to a single numpy.ndarray with numpy.array() before converting to a tensor. (Triggered internally at  ../torch/csrc/utils/tensor_new.cpp:201.)\n"
     ]
    },
    {
     "name": "stdout",
     "output_type": "stream",
     "text": [
      "CPU times: user 16min 20s, sys: 6min 33s, total: 22min 53s\n",
      "Wall time: 22min 41s\n"
     ]
    }
   ],
   "source": [
    "%%time\n",
    "# cust-item pairs for testing\n",
    "test_cust_item_set = set(\n",
    "    zip(\n",
    "        df_test[\"customer_id\"],\n",
    "        df_test[\"customer_city\"],\n",
    "        df_test[\"product_id\"],\n",
    "        df_test[\"product_weight_g\"],\n",
    "    )\n",
    ")\n",
    "\n",
    "# Dict of all items that are interacted with by each customer\n",
    "cust_interacted_items = df.groupby(\"customer_id\")[\"product_id\"].apply(list).to_dict()\n",
    "\n",
    "# declare variables\n",
    "preds = []\n",
    "target=[]\n",
    "indexes=[]\n",
    "count=0\n",
    "\n",
    "for (u, c, i, w) in test_cust_item_set:\n",
    "    # For each customer, randomly select 99 items that the customer has not interacted with.\n",
    "    interacted_items = cust_interacted_items[u]\n",
    "    not_interacted_items = set(all_item_ids) - set(interacted_items)\n",
    "    selected_not_interacted = list(np.random.choice(list(not_interacted_items), 99, replace=False))\n",
    "    # Combine these 99 items with the test item:\n",
    "    # the actual item that the customer last interacted with.\n",
    "    # The final test item list has 100 items.\n",
    "    test_items = selected_not_interacted + [i]\n",
    "    test_weights = df[[\"product_id\", \"product_weight_g\"]][\n",
    "        df.product_id.isin(selected_not_interacted)\n",
    "    ].drop_duplicates(subset=[\"product_id\"])[\"product_weight_g\"].to_list() + [w]\n",
    "\n",
    "    test_user = {\"uid\": torch.tensor([u] * 100), \"city\": torch.tensor([c] * 100)}\n",
    "    test_item = {\"iid\": torch.tensor(test_items), \"weight\": torch.tensor(test_weights)}\n",
    "\n",
    "    # Run the model on these 100 items\n",
    "    predicted_labels = np.squeeze(model_simple(test_user, test_item).detach().numpy())\n",
    "\n",
    "    preds.append(predicted_labels)\n",
    "    target.append(np.concatenate((np.zeros(99), (1,))))\n",
    "    indexes.append(np.array([count] * 100))\n",
    "\n",
    "preds=torch.tensor(preds).ravel()\n",
    "target=torch.tensor(target).ravel()\n",
    "indexes=torch.tensor(indexes).ravel().long()\n",
    "\n",
    "NCF_simple_metrics = {\n",
    "    \"MP\": precision(preds=preds, target=target, indexes=indexes).detach().numpy().round(6),\n",
    "    \"MRR\": MRR(preds=preds, target=target, indexes=indexes).detach().numpy().round(6),\n",
    "    \"MRecall\": recall(preds=preds, target=target, indexes=indexes).detach().numpy().round(6),\n",
    "    \"MAP\": MAP(preds=preds, target=target, indexes=indexes).detach().numpy().round(6)\n",
    "}"
   ]
  },
  {
   "cell_type": "code",
   "execution_count": 24,
   "metadata": {
    "id": "1y4bKDUmuLLC"
   },
   "outputs": [],
   "source": [
    "with open('preds_simple.npy', 'wb') as f:\n",
    "    np.save(f, preds)\n",
    "with open('target.npy', 'wb') as f:\n",
    "    np.save(f, target)\n",
    "with open('indexes.npy', 'wb') as f:\n",
    "    np.save(f, indexes)"
   ]
  },
  {
   "cell_type": "markdown",
   "metadata": {
    "id": "KkNkq4LotLiT"
   },
   "source": [
    "## Upgrade NCF"
   ]
  },
  {
   "cell_type": "code",
   "execution_count": 31,
   "metadata": {
    "colab": {
     "base_uri": "https://localhost:8080/",
     "height": 613,
     "referenced_widgets": [
      "e8bdcd0ddfa44205b6d98a8e23882568",
      "3929fa7d1d114acf94f38e5133473271",
      "d114d4b2419f4bcc8c8b11967c0d4750",
      "9cf2462619824a6ca0b116a14c39f52f",
      "c922b5399f614e42bb591c6945b9eb27",
      "da5d00ada0734fd2a16a7217b262a977",
      "b16b14a996c242c5ad4ae4b130e8e668",
      "6e2c7ad8199f42879f393451bf787b3d",
      "010f17b0bc8c4c71a6c32eb27d6118ae",
      "368b6189fe5f4c338242fba25fb440c6",
      "e5976d7aa8bc43bebcdb0474bac65502"
     ]
    },
    "id": "N1rjr4RrtBnl",
    "outputId": "cefb6c19-c67d-4250-9ad3-116c24ece236"
   },
   "outputs": [
    {
     "name": "stderr",
     "output_type": "stream",
     "text": [
      "GPU available: True, used: True\n",
      "TPU available: False, using: 0 TPU cores\n",
      "IPU available: False, using: 0 IPUs\n",
      "LOCAL_RANK: 0 - CUDA_VISIBLE_DEVICES: [0]\n",
      "\n",
      "  | Name             | Type        | Params\n",
      "-------------------------------------------------\n",
      "0 | embedding_uid    | Embedding   | 763 K \n",
      "1 | embedding_city   | Embedding   | 32.9 K\n",
      "2 | embedding_iid    | Embedding   | 263 K \n",
      "3 | embedding_weight | Embedding   | 323 K \n",
      "4 | fc1              | Linear      | 2.1 K \n",
      "5 | fc2              | Linear      | 2.1 K \n",
      "6 | output           | Linear      | 33    \n",
      "7 | BN               | BatchNorm1d | 128   \n",
      "-------------------------------------------------\n",
      "1.4 M     Trainable params\n",
      "0         Non-trainable params\n",
      "1.4 M     Total params\n",
      "5.550     Total estimated model params size (MB)\n",
      "/usr/local/lib/python3.7/dist-packages/torch/utils/data/dataloader.py:481: UserWarning: This DataLoader will create 4 worker processes in total. Our suggested max number of worker in current system is 2, which is smaller than what this DataLoader is going to create. Please be aware that excessive worker creation might get DataLoader running slow or even freeze, lower the worker number to avoid potential slowness/freeze if necessary.\n",
      "  cpuset_checked))\n"
     ]
    },
    {
     "data": {
      "application/vnd.jupyter.widget-view+json": {
       "model_id": "e8bdcd0ddfa44205b6d98a8e23882568",
       "version_major": 2,
       "version_minor": 0
      },
      "text/plain": [
       "Training: 0it [00:00, ?it/s]"
      ]
     },
     "metadata": {},
     "output_type": "display_data"
    },
    {
     "name": "stderr",
     "output_type": "stream",
     "text": [
      "/usr/local/lib/python3.7/dist-packages/torch/utils/data/dataloader.py:481: UserWarning: This DataLoader will create 4 worker processes in total. Our suggested max number of worker in current system is 2, which is smaller than what this DataLoader is going to create. Please be aware that excessive worker creation might get DataLoader running slow or even freeze, lower the worker number to avoid potential slowness/freeze if necessary.\n",
      "  cpuset_checked))\n",
      "/usr/local/lib/python3.7/dist-packages/torch/utils/data/dataloader.py:481: UserWarning: This DataLoader will create 4 worker processes in total. Our suggested max number of worker in current system is 2, which is smaller than what this DataLoader is going to create. Please be aware that excessive worker creation might get DataLoader running slow or even freeze, lower the worker number to avoid potential slowness/freeze if necessary.\n",
      "  cpuset_checked))\n",
      "/usr/local/lib/python3.7/dist-packages/torch/utils/data/dataloader.py:481: UserWarning: This DataLoader will create 4 worker processes in total. Our suggested max number of worker in current system is 2, which is smaller than what this DataLoader is going to create. Please be aware that excessive worker creation might get DataLoader running slow or even freeze, lower the worker number to avoid potential slowness/freeze if necessary.\n",
      "  cpuset_checked))\n",
      "/usr/local/lib/python3.7/dist-packages/torch/utils/data/dataloader.py:481: UserWarning: This DataLoader will create 4 worker processes in total. Our suggested max number of worker in current system is 2, which is smaller than what this DataLoader is going to create. Please be aware that excessive worker creation might get DataLoader running slow or even freeze, lower the worker number to avoid potential slowness/freeze if necessary.\n",
      "  cpuset_checked))\n"
     ]
    },
    {
     "name": "stdout",
     "output_type": "stream",
     "text": [
      "CPU times: user 6min 8s, sys: 50.8 s, total: 6min 58s\n",
      "Wall time: 7min 3s\n"
     ]
    }
   ],
   "source": [
    "%%time\n",
    "attribute_max={\n",
    "    'uid': df.customer_id.max() + 1,\n",
    "    'city': df.customer_city.max() + 1,\n",
    "    'iid': df.product_id.max() + 1,\n",
    "    'weight': int(df.product_weight_g.max()) + 1,\n",
    "}\n",
    "# attribute_max={\n",
    "#     'uid': df_train.customer_id.max() + 1,\n",
    "#     'city': df_train.customer_city.max()+1,\n",
    "#     'iid': df_train.product_id.max() + 1,\n",
    "#     'weight': int(df_train.product_weight_g.max())+1,\n",
    "# }\n",
    "\n",
    "# Get a list of all item IDs\n",
    "all_item_ids = df_train.product_id.unique()\n",
    "\n",
    "model = NCF(attribute_max, df_train, all_item_ids)\n",
    "\n",
    "trainer = pl.Trainer(\n",
    "    max_epochs=5,\n",
    "    gpus=1,\n",
    "    reload_dataloaders_every_n_epochs=1,\n",
    "    logger=False,\n",
    "    callbacks=[TQDMProgressBar()],\n",
    "    enable_checkpointing=False,\n",
    ")\n",
    "\n",
    "trainer.fit(model)"
   ]
  },
  {
   "cell_type": "code",
   "execution_count": 32,
   "metadata": {
    "id": "dnrTUGMcvgWj"
   },
   "outputs": [],
   "source": [
    "# save model\n",
    "model_path = 'model_colab/ncf.pt'\n",
    "torch.save(model.state_dict(), model_path)"
   ]
  },
  {
   "cell_type": "code",
   "execution_count": 33,
   "metadata": {
    "colab": {
     "base_uri": "https://localhost:8080/"
    },
    "id": "ggrzHdZptdb5",
    "outputId": "1c915329-cd94-4198-f173-9bde811ce811"
   },
   "outputs": [
    {
     "name": "stdout",
     "output_type": "stream",
     "text": [
      "CPU times: user 16min 43s, sys: 3min 45s, total: 20min 29s\n",
      "Wall time: 20min 17s\n"
     ]
    }
   ],
   "source": [
    "%%time\n",
    "# Declare variables\n",
    "preds = []\n",
    "target=[]\n",
    "indexes=[]\n",
    "count=0\n",
    "\n",
    "for (u, c, i, w) in test_cust_item_set:\n",
    "    # For each customer, randomly select 99 items that the customer has not interacted with.\n",
    "    interacted_items = cust_interacted_items[u]\n",
    "    not_interacted_items = set(all_item_ids) - set(interacted_items)\n",
    "    selected_not_interacted = list(np.random.choice(list(not_interacted_items), 99, replace=False))\n",
    "    # Combine these 99 items with the test item:\n",
    "    # the actual item that the customer last interacted with.\n",
    "    # The final test item list has 100 items.\n",
    "    test_items = selected_not_interacted + [i]\n",
    "    test_weights = df[[\"product_id\", \"product_weight_g\"]][\n",
    "        df.product_id.isin(selected_not_interacted)\n",
    "    ].drop_duplicates(subset=[\"product_id\"])[\"product_weight_g\"].to_list() + [w]\n",
    "\n",
    "    test_user = {\"uid\": torch.tensor([u] * 100), \"city\": torch.tensor([c] * 100)}\n",
    "    test_item = {\"iid\": torch.tensor(test_items), \"weight\": torch.tensor(test_weights)}\n",
    "\n",
    "    # Run the model on these 100 items\n",
    "    predicted_labels = np.squeeze(model(test_user, test_item).detach().numpy())\n",
    "\n",
    "    preds.append(predicted_labels)\n",
    "    target.append(np.concatenate((np.zeros(99), (1,))))\n",
    "    indexes.append(np.array([count] * 100))\n",
    "\n",
    "preds=torch.tensor(preds).ravel()\n",
    "target=torch.tensor(target).ravel()\n",
    "indexes=torch.tensor(indexes).ravel().long()\n",
    "\n",
    "NCF_metrics = {\n",
    "    \"MP\": precision(preds=preds, target=target, indexes=indexes).detach().numpy().round(6),\n",
    "    \"MRR\": MRR(preds=preds, target=target, indexes=indexes).detach().numpy().round(6),\n",
    "    \"MRecall\": recall(preds=preds, target=target, indexes=indexes).detach().numpy().round(6),\n",
    "    \"MAP\": MAP(preds=preds, target=target, indexes=indexes).detach().numpy().round(6)\n",
    "}"
   ]
  },
  {
   "cell_type": "code",
   "execution_count": 34,
   "metadata": {
    "id": "NMr_xJfpvpQa"
   },
   "outputs": [],
   "source": [
    "with open('preds.npy', 'wb') as f:\n",
    "    np.save(f, preds)"
   ]
  },
  {
   "cell_type": "markdown",
   "metadata": {
    "id": "V1vmBuhctsPA"
   },
   "source": [
    "# Compare Results"
   ]
  },
  {
   "cell_type": "code",
   "execution_count": 35,
   "metadata": {
    "id": "G3AsWR5Ttq8Q"
   },
   "outputs": [],
   "source": [
    "df_results = pd.DataFrame(\n",
    "    [NCF_simple_metrics, NCF_metrics], index=[\"NCF_simple_metrics\", \"NCF_metrics\"]\n",
    ")\n",
    "df_results.to_csv('model_colab/results.csv')"
   ]
  },
  {
   "cell_type": "code",
   "execution_count": 38,
   "metadata": {
    "colab": {
     "base_uri": "https://localhost:8080/",
     "height": 111
    },
    "id": "tJIBR1c_hh6x",
    "outputId": "aae84349-5fa2-41eb-aa9a-db1afabfa18b"
   },
   "outputs": [
    {
     "data": {
      "text/html": [
       "<div>\n",
       "<style scoped>\n",
       "    .dataframe tbody tr th:only-of-type {\n",
       "        vertical-align: middle;\n",
       "    }\n",
       "\n",
       "    .dataframe tbody tr th {\n",
       "        vertical-align: top;\n",
       "    }\n",
       "\n",
       "    .dataframe thead th {\n",
       "        text-align: right;\n",
       "    }\n",
       "</style>\n",
       "<table border=\"1\" class=\"dataframe\">\n",
       "  <thead>\n",
       "    <tr style=\"text-align: right;\">\n",
       "      <th></th>\n",
       "      <th>MP</th>\n",
       "      <th>MRR</th>\n",
       "      <th>MRecall</th>\n",
       "      <th>MAP</th>\n",
       "    </tr>\n",
       "  </thead>\n",
       "  <tbody>\n",
       "    <tr>\n",
       "      <th>NCF_simple_metrics</th>\n",
       "      <td>0.000048</td>\n",
       "      <td>0.021845</td>\n",
       "      <td>0.000031</td>\n",
       "      <td>0.012949</td>\n",
       "    </tr>\n",
       "    <tr>\n",
       "      <th>NCF_metrics</th>\n",
       "      <td>0.000095</td>\n",
       "      <td>0.035910</td>\n",
       "      <td>0.000105</td>\n",
       "      <td>0.020011</td>\n",
       "    </tr>\n",
       "  </tbody>\n",
       "</table>\n",
       "</div>"
      ],
      "text/plain": [
       "                          MP       MRR   MRecall       MAP\n",
       "NCF_simple_metrics  0.000048  0.021845  0.000031  0.012949\n",
       "NCF_metrics         0.000095  0.035910  0.000105  0.020011"
      ]
     },
     "execution_count": 38,
     "metadata": {},
     "output_type": "execute_result"
    }
   ],
   "source": [
    "df_results"
   ]
  }
 ],
 "metadata": {
  "accelerator": "GPU",
  "colab": {
   "authorship_tag": "ABX9TyNyDTLpnnYXjDBqVtGy7k2f",
   "collapsed_sections": [],
   "include_colab_link": true,
   "name": "olist_NCF_colab.ipynb",
   "provenance": []
  },
  "kernelspec": {
   "display_name": "Python 3",
   "name": "python3"
  },
  "language_info": {
   "name": "python"
  },
  "widgets": {
   "application/vnd.jupyter.widget-state+json": {
    "010f17b0bc8c4c71a6c32eb27d6118ae": {
     "model_module": "@jupyter-widgets/base",
     "model_module_version": "1.2.0",
     "model_name": "LayoutModel",
     "state": {
      "_model_module": "@jupyter-widgets/base",
      "_model_module_version": "1.2.0",
      "_model_name": "LayoutModel",
      "_view_count": null,
      "_view_module": "@jupyter-widgets/base",
      "_view_module_version": "1.2.0",
      "_view_name": "LayoutView",
      "align_content": null,
      "align_items": null,
      "align_self": null,
      "border": null,
      "bottom": null,
      "display": null,
      "flex": "2",
      "flex_flow": null,
      "grid_area": null,
      "grid_auto_columns": null,
      "grid_auto_flow": null,
      "grid_auto_rows": null,
      "grid_column": null,
      "grid_gap": null,
      "grid_row": null,
      "grid_template_areas": null,
      "grid_template_columns": null,
      "grid_template_rows": null,
      "height": null,
      "justify_content": null,
      "justify_items": null,
      "left": null,
      "margin": null,
      "max_height": null,
      "max_width": null,
      "min_height": null,
      "min_width": null,
      "object_fit": null,
      "object_position": null,
      "order": null,
      "overflow": null,
      "overflow_x": null,
      "overflow_y": null,
      "padding": null,
      "right": null,
      "top": null,
      "visibility": null,
      "width": null
     }
    },
    "1af95e8ec1014cbd91832fced9701009": {
     "model_module": "@jupyter-widgets/controls",
     "model_module_version": "1.5.0",
     "model_name": "DescriptionStyleModel",
     "state": {
      "_model_module": "@jupyter-widgets/controls",
      "_model_module_version": "1.5.0",
      "_model_name": "DescriptionStyleModel",
      "_view_count": null,
      "_view_module": "@jupyter-widgets/base",
      "_view_module_version": "1.2.0",
      "_view_name": "StyleView",
      "description_width": ""
     }
    },
    "26e675455c2048fd92a493abe9c571ae": {
     "model_module": "@jupyter-widgets/controls",
     "model_module_version": "1.5.0",
     "model_name": "HTMLModel",
     "state": {
      "_dom_classes": [],
      "_model_module": "@jupyter-widgets/controls",
      "_model_module_version": "1.5.0",
      "_model_name": "HTMLModel",
      "_view_count": null,
      "_view_module": "@jupyter-widgets/controls",
      "_view_module_version": "1.5.0",
      "_view_name": "HTMLView",
      "description": "",
      "description_tooltip": null,
      "layout": "IPY_MODEL_e5b6538266da4c2590cf98b09f2cb83f",
      "placeholder": "​",
      "style": "IPY_MODEL_9e5bfafdeab9412c9b2d714d7e16fe9c",
      "value": " 132/132 [00:05&lt;00:00, 26.40it/s, loss=0.492]"
     }
    },
    "368b6189fe5f4c338242fba25fb440c6": {
     "model_module": "@jupyter-widgets/controls",
     "model_module_version": "1.5.0",
     "model_name": "DescriptionStyleModel",
     "state": {
      "_model_module": "@jupyter-widgets/controls",
      "_model_module_version": "1.5.0",
      "_model_name": "DescriptionStyleModel",
      "_view_count": null,
      "_view_module": "@jupyter-widgets/base",
      "_view_module_version": "1.2.0",
      "_view_name": "StyleView",
      "description_width": ""
     }
    },
    "38fd5549626f42cf83c7e5ae55187052": {
     "model_module": "@jupyter-widgets/controls",
     "model_module_version": "1.5.0",
     "model_name": "FloatProgressModel",
     "state": {
      "_dom_classes": [],
      "_model_module": "@jupyter-widgets/controls",
      "_model_module_version": "1.5.0",
      "_model_name": "FloatProgressModel",
      "_view_count": null,
      "_view_module": "@jupyter-widgets/controls",
      "_view_module_version": "1.5.0",
      "_view_name": "ProgressView",
      "bar_style": "success",
      "description": "",
      "description_tooltip": null,
      "layout": "IPY_MODEL_9de1001366df4b039b956b5a594d3891",
      "max": 132,
      "min": 0,
      "orientation": "horizontal",
      "style": "IPY_MODEL_70eb5538b5924ef4b1bcb58d0c8c7f87",
      "value": 132
     }
    },
    "3929fa7d1d114acf94f38e5133473271": {
     "model_module": "@jupyter-widgets/base",
     "model_module_version": "1.2.0",
     "model_name": "LayoutModel",
     "state": {
      "_model_module": "@jupyter-widgets/base",
      "_model_module_version": "1.2.0",
      "_model_name": "LayoutModel",
      "_view_count": null,
      "_view_module": "@jupyter-widgets/base",
      "_view_module_version": "1.2.0",
      "_view_name": "LayoutView",
      "align_content": null,
      "align_items": null,
      "align_self": null,
      "border": null,
      "bottom": null,
      "display": "inline-flex",
      "flex": null,
      "flex_flow": "row wrap",
      "grid_area": null,
      "grid_auto_columns": null,
      "grid_auto_flow": null,
      "grid_auto_rows": null,
      "grid_column": null,
      "grid_gap": null,
      "grid_row": null,
      "grid_template_areas": null,
      "grid_template_columns": null,
      "grid_template_rows": null,
      "height": null,
      "justify_content": null,
      "justify_items": null,
      "left": null,
      "margin": null,
      "max_height": null,
      "max_width": null,
      "min_height": null,
      "min_width": null,
      "object_fit": null,
      "object_position": null,
      "order": null,
      "overflow": null,
      "overflow_x": null,
      "overflow_y": null,
      "padding": null,
      "right": null,
      "top": null,
      "visibility": null,
      "width": "100%"
     }
    },
    "6e2c7ad8199f42879f393451bf787b3d": {
     "model_module": "@jupyter-widgets/controls",
     "model_module_version": "1.5.0",
     "model_name": "ProgressStyleModel",
     "state": {
      "_model_module": "@jupyter-widgets/controls",
      "_model_module_version": "1.5.0",
      "_model_name": "ProgressStyleModel",
      "_view_count": null,
      "_view_module": "@jupyter-widgets/base",
      "_view_module_version": "1.2.0",
      "_view_name": "StyleView",
      "bar_color": null,
      "description_width": ""
     }
    },
    "70eb5538b5924ef4b1bcb58d0c8c7f87": {
     "model_module": "@jupyter-widgets/controls",
     "model_module_version": "1.5.0",
     "model_name": "ProgressStyleModel",
     "state": {
      "_model_module": "@jupyter-widgets/controls",
      "_model_module_version": "1.5.0",
      "_model_name": "ProgressStyleModel",
      "_view_count": null,
      "_view_module": "@jupyter-widgets/base",
      "_view_module_version": "1.2.0",
      "_view_name": "StyleView",
      "bar_color": null,
      "description_width": ""
     }
    },
    "9757b650bcdf42d1b0dc81fa7bc0771b": {
     "model_module": "@jupyter-widgets/controls",
     "model_module_version": "1.5.0",
     "model_name": "HTMLModel",
     "state": {
      "_dom_classes": [],
      "_model_module": "@jupyter-widgets/controls",
      "_model_module_version": "1.5.0",
      "_model_name": "HTMLModel",
      "_view_count": null,
      "_view_module": "@jupyter-widgets/controls",
      "_view_module_version": "1.5.0",
      "_view_name": "HTMLView",
      "description": "",
      "description_tooltip": null,
      "layout": "IPY_MODEL_c3d92c86a97a41b191a8e8fa5da3331b",
      "placeholder": "​",
      "style": "IPY_MODEL_1af95e8ec1014cbd91832fced9701009",
      "value": "Epoch 4: 100%"
     }
    },
    "9cf2462619824a6ca0b116a14c39f52f": {
     "model_module": "@jupyter-widgets/controls",
     "model_module_version": "1.5.0",
     "model_name": "FloatProgressModel",
     "state": {
      "_dom_classes": [],
      "_model_module": "@jupyter-widgets/controls",
      "_model_module_version": "1.5.0",
      "_model_name": "FloatProgressModel",
      "_view_count": null,
      "_view_module": "@jupyter-widgets/controls",
      "_view_module_version": "1.5.0",
      "_view_name": "ProgressView",
      "bar_style": "success",
      "description": "",
      "description_tooltip": null,
      "layout": "IPY_MODEL_010f17b0bc8c4c71a6c32eb27d6118ae",
      "max": 132,
      "min": 0,
      "orientation": "horizontal",
      "style": "IPY_MODEL_6e2c7ad8199f42879f393451bf787b3d",
      "value": 132
     }
    },
    "9de1001366df4b039b956b5a594d3891": {
     "model_module": "@jupyter-widgets/base",
     "model_module_version": "1.2.0",
     "model_name": "LayoutModel",
     "state": {
      "_model_module": "@jupyter-widgets/base",
      "_model_module_version": "1.2.0",
      "_model_name": "LayoutModel",
      "_view_count": null,
      "_view_module": "@jupyter-widgets/base",
      "_view_module_version": "1.2.0",
      "_view_name": "LayoutView",
      "align_content": null,
      "align_items": null,
      "align_self": null,
      "border": null,
      "bottom": null,
      "display": null,
      "flex": "2",
      "flex_flow": null,
      "grid_area": null,
      "grid_auto_columns": null,
      "grid_auto_flow": null,
      "grid_auto_rows": null,
      "grid_column": null,
      "grid_gap": null,
      "grid_row": null,
      "grid_template_areas": null,
      "grid_template_columns": null,
      "grid_template_rows": null,
      "height": null,
      "justify_content": null,
      "justify_items": null,
      "left": null,
      "margin": null,
      "max_height": null,
      "max_width": null,
      "min_height": null,
      "min_width": null,
      "object_fit": null,
      "object_position": null,
      "order": null,
      "overflow": null,
      "overflow_x": null,
      "overflow_y": null,
      "padding": null,
      "right": null,
      "top": null,
      "visibility": null,
      "width": null
     }
    },
    "9e5bfafdeab9412c9b2d714d7e16fe9c": {
     "model_module": "@jupyter-widgets/controls",
     "model_module_version": "1.5.0",
     "model_name": "DescriptionStyleModel",
     "state": {
      "_model_module": "@jupyter-widgets/controls",
      "_model_module_version": "1.5.0",
      "_model_name": "DescriptionStyleModel",
      "_view_count": null,
      "_view_module": "@jupyter-widgets/base",
      "_view_module_version": "1.2.0",
      "_view_name": "StyleView",
      "description_width": ""
     }
    },
    "a4cd8eae9fb94caea98a04e70a69aeae": {
     "model_module": "@jupyter-widgets/base",
     "model_module_version": "1.2.0",
     "model_name": "LayoutModel",
     "state": {
      "_model_module": "@jupyter-widgets/base",
      "_model_module_version": "1.2.0",
      "_model_name": "LayoutModel",
      "_view_count": null,
      "_view_module": "@jupyter-widgets/base",
      "_view_module_version": "1.2.0",
      "_view_name": "LayoutView",
      "align_content": null,
      "align_items": null,
      "align_self": null,
      "border": null,
      "bottom": null,
      "display": "inline-flex",
      "flex": null,
      "flex_flow": "row wrap",
      "grid_area": null,
      "grid_auto_columns": null,
      "grid_auto_flow": null,
      "grid_auto_rows": null,
      "grid_column": null,
      "grid_gap": null,
      "grid_row": null,
      "grid_template_areas": null,
      "grid_template_columns": null,
      "grid_template_rows": null,
      "height": null,
      "justify_content": null,
      "justify_items": null,
      "left": null,
      "margin": null,
      "max_height": null,
      "max_width": null,
      "min_height": null,
      "min_width": null,
      "object_fit": null,
      "object_position": null,
      "order": null,
      "overflow": null,
      "overflow_x": null,
      "overflow_y": null,
      "padding": null,
      "right": null,
      "top": null,
      "visibility": null,
      "width": "100%"
     }
    },
    "b16b14a996c242c5ad4ae4b130e8e668": {
     "model_module": "@jupyter-widgets/base",
     "model_module_version": "1.2.0",
     "model_name": "LayoutModel",
     "state": {
      "_model_module": "@jupyter-widgets/base",
      "_model_module_version": "1.2.0",
      "_model_name": "LayoutModel",
      "_view_count": null,
      "_view_module": "@jupyter-widgets/base",
      "_view_module_version": "1.2.0",
      "_view_name": "LayoutView",
      "align_content": null,
      "align_items": null,
      "align_self": null,
      "border": null,
      "bottom": null,
      "display": null,
      "flex": null,
      "flex_flow": null,
      "grid_area": null,
      "grid_auto_columns": null,
      "grid_auto_flow": null,
      "grid_auto_rows": null,
      "grid_column": null,
      "grid_gap": null,
      "grid_row": null,
      "grid_template_areas": null,
      "grid_template_columns": null,
      "grid_template_rows": null,
      "height": null,
      "justify_content": null,
      "justify_items": null,
      "left": null,
      "margin": null,
      "max_height": null,
      "max_width": null,
      "min_height": null,
      "min_width": null,
      "object_fit": null,
      "object_position": null,
      "order": null,
      "overflow": null,
      "overflow_x": null,
      "overflow_y": null,
      "padding": null,
      "right": null,
      "top": null,
      "visibility": null,
      "width": null
     }
    },
    "be71bd916dac4085b06d1ff61415ab4f": {
     "model_module": "@jupyter-widgets/controls",
     "model_module_version": "1.5.0",
     "model_name": "HBoxModel",
     "state": {
      "_dom_classes": [],
      "_model_module": "@jupyter-widgets/controls",
      "_model_module_version": "1.5.0",
      "_model_name": "HBoxModel",
      "_view_count": null,
      "_view_module": "@jupyter-widgets/controls",
      "_view_module_version": "1.5.0",
      "_view_name": "HBoxView",
      "box_style": "",
      "children": [
       "IPY_MODEL_9757b650bcdf42d1b0dc81fa7bc0771b",
       "IPY_MODEL_38fd5549626f42cf83c7e5ae55187052",
       "IPY_MODEL_26e675455c2048fd92a493abe9c571ae"
      ],
      "layout": "IPY_MODEL_a4cd8eae9fb94caea98a04e70a69aeae"
     }
    },
    "c3d92c86a97a41b191a8e8fa5da3331b": {
     "model_module": "@jupyter-widgets/base",
     "model_module_version": "1.2.0",
     "model_name": "LayoutModel",
     "state": {
      "_model_module": "@jupyter-widgets/base",
      "_model_module_version": "1.2.0",
      "_model_name": "LayoutModel",
      "_view_count": null,
      "_view_module": "@jupyter-widgets/base",
      "_view_module_version": "1.2.0",
      "_view_name": "LayoutView",
      "align_content": null,
      "align_items": null,
      "align_self": null,
      "border": null,
      "bottom": null,
      "display": null,
      "flex": null,
      "flex_flow": null,
      "grid_area": null,
      "grid_auto_columns": null,
      "grid_auto_flow": null,
      "grid_auto_rows": null,
      "grid_column": null,
      "grid_gap": null,
      "grid_row": null,
      "grid_template_areas": null,
      "grid_template_columns": null,
      "grid_template_rows": null,
      "height": null,
      "justify_content": null,
      "justify_items": null,
      "left": null,
      "margin": null,
      "max_height": null,
      "max_width": null,
      "min_height": null,
      "min_width": null,
      "object_fit": null,
      "object_position": null,
      "order": null,
      "overflow": null,
      "overflow_x": null,
      "overflow_y": null,
      "padding": null,
      "right": null,
      "top": null,
      "visibility": null,
      "width": null
     }
    },
    "c922b5399f614e42bb591c6945b9eb27": {
     "model_module": "@jupyter-widgets/controls",
     "model_module_version": "1.5.0",
     "model_name": "HTMLModel",
     "state": {
      "_dom_classes": [],
      "_model_module": "@jupyter-widgets/controls",
      "_model_module_version": "1.5.0",
      "_model_name": "HTMLModel",
      "_view_count": null,
      "_view_module": "@jupyter-widgets/controls",
      "_view_module_version": "1.5.0",
      "_view_name": "HTMLView",
      "description": "",
      "description_tooltip": null,
      "layout": "IPY_MODEL_e5976d7aa8bc43bebcdb0474bac65502",
      "placeholder": "​",
      "style": "IPY_MODEL_368b6189fe5f4c338242fba25fb440c6",
      "value": " 132/132 [00:04&lt;00:00, 26.90it/s, loss=0.486]"
     }
    },
    "d114d4b2419f4bcc8c8b11967c0d4750": {
     "model_module": "@jupyter-widgets/controls",
     "model_module_version": "1.5.0",
     "model_name": "HTMLModel",
     "state": {
      "_dom_classes": [],
      "_model_module": "@jupyter-widgets/controls",
      "_model_module_version": "1.5.0",
      "_model_name": "HTMLModel",
      "_view_count": null,
      "_view_module": "@jupyter-widgets/controls",
      "_view_module_version": "1.5.0",
      "_view_name": "HTMLView",
      "description": "",
      "description_tooltip": null,
      "layout": "IPY_MODEL_b16b14a996c242c5ad4ae4b130e8e668",
      "placeholder": "​",
      "style": "IPY_MODEL_da5d00ada0734fd2a16a7217b262a977",
      "value": "Epoch 4: 100%"
     }
    },
    "da5d00ada0734fd2a16a7217b262a977": {
     "model_module": "@jupyter-widgets/controls",
     "model_module_version": "1.5.0",
     "model_name": "DescriptionStyleModel",
     "state": {
      "_model_module": "@jupyter-widgets/controls",
      "_model_module_version": "1.5.0",
      "_model_name": "DescriptionStyleModel",
      "_view_count": null,
      "_view_module": "@jupyter-widgets/base",
      "_view_module_version": "1.2.0",
      "_view_name": "StyleView",
      "description_width": ""
     }
    },
    "e5976d7aa8bc43bebcdb0474bac65502": {
     "model_module": "@jupyter-widgets/base",
     "model_module_version": "1.2.0",
     "model_name": "LayoutModel",
     "state": {
      "_model_module": "@jupyter-widgets/base",
      "_model_module_version": "1.2.0",
      "_model_name": "LayoutModel",
      "_view_count": null,
      "_view_module": "@jupyter-widgets/base",
      "_view_module_version": "1.2.0",
      "_view_name": "LayoutView",
      "align_content": null,
      "align_items": null,
      "align_self": null,
      "border": null,
      "bottom": null,
      "display": null,
      "flex": null,
      "flex_flow": null,
      "grid_area": null,
      "grid_auto_columns": null,
      "grid_auto_flow": null,
      "grid_auto_rows": null,
      "grid_column": null,
      "grid_gap": null,
      "grid_row": null,
      "grid_template_areas": null,
      "grid_template_columns": null,
      "grid_template_rows": null,
      "height": null,
      "justify_content": null,
      "justify_items": null,
      "left": null,
      "margin": null,
      "max_height": null,
      "max_width": null,
      "min_height": null,
      "min_width": null,
      "object_fit": null,
      "object_position": null,
      "order": null,
      "overflow": null,
      "overflow_x": null,
      "overflow_y": null,
      "padding": null,
      "right": null,
      "top": null,
      "visibility": null,
      "width": null
     }
    },
    "e5b6538266da4c2590cf98b09f2cb83f": {
     "model_module": "@jupyter-widgets/base",
     "model_module_version": "1.2.0",
     "model_name": "LayoutModel",
     "state": {
      "_model_module": "@jupyter-widgets/base",
      "_model_module_version": "1.2.0",
      "_model_name": "LayoutModel",
      "_view_count": null,
      "_view_module": "@jupyter-widgets/base",
      "_view_module_version": "1.2.0",
      "_view_name": "LayoutView",
      "align_content": null,
      "align_items": null,
      "align_self": null,
      "border": null,
      "bottom": null,
      "display": null,
      "flex": null,
      "flex_flow": null,
      "grid_area": null,
      "grid_auto_columns": null,
      "grid_auto_flow": null,
      "grid_auto_rows": null,
      "grid_column": null,
      "grid_gap": null,
      "grid_row": null,
      "grid_template_areas": null,
      "grid_template_columns": null,
      "grid_template_rows": null,
      "height": null,
      "justify_content": null,
      "justify_items": null,
      "left": null,
      "margin": null,
      "max_height": null,
      "max_width": null,
      "min_height": null,
      "min_width": null,
      "object_fit": null,
      "object_position": null,
      "order": null,
      "overflow": null,
      "overflow_x": null,
      "overflow_y": null,
      "padding": null,
      "right": null,
      "top": null,
      "visibility": null,
      "width": null
     }
    },
    "e8bdcd0ddfa44205b6d98a8e23882568": {
     "model_module": "@jupyter-widgets/controls",
     "model_module_version": "1.5.0",
     "model_name": "HBoxModel",
     "state": {
      "_dom_classes": [],
      "_model_module": "@jupyter-widgets/controls",
      "_model_module_version": "1.5.0",
      "_model_name": "HBoxModel",
      "_view_count": null,
      "_view_module": "@jupyter-widgets/controls",
      "_view_module_version": "1.5.0",
      "_view_name": "HBoxView",
      "box_style": "",
      "children": [
       "IPY_MODEL_d114d4b2419f4bcc8c8b11967c0d4750",
       "IPY_MODEL_9cf2462619824a6ca0b116a14c39f52f",
       "IPY_MODEL_c922b5399f614e42bb591c6945b9eb27"
      ],
      "layout": "IPY_MODEL_3929fa7d1d114acf94f38e5133473271"
     }
    }
   }
  }
 },
 "nbformat": 4,
 "nbformat_minor": 0
}
