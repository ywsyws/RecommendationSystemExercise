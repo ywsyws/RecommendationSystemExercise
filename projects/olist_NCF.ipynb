{
 "cells": [
  {
   "cell_type": "markdown",
   "metadata": {},
   "source": [
    "# Import Library and Data"
   ]
  },
  {
   "cell_type": "code",
   "execution_count": 668,
   "metadata": {},
   "outputs": [],
   "source": [
    "import matplotlib.pyplot as plt\n",
    "import numpy as np\n",
    "import pandas as pd\n",
    "import pytorch_lightning as pl\n",
    "import torch\n",
    "import torch.nn as nn\n",
    "from pytorch_lightning.callbacks.progress import TQDMProgressBar\n",
    "from sklearn.preprocessing import LabelEncoder\n",
    "from torch.utils.data import Dataset, DataLoader\n",
    "from typing import Union\n",
    "\n",
    "np.random.seed(123)\n",
    "pd.options.mode.chained_assignment = None"
   ]
  },
  {
   "cell_type": "code",
   "execution_count": 669,
   "metadata": {},
   "outputs": [
    {
     "data": {
      "text/plain": [
       "(112650, 6)"
      ]
     },
     "execution_count": 669,
     "metadata": {},
     "output_type": "execute_result"
    }
   ],
   "source": [
    "root = \"../data/olist/\"\n",
    "# import dataset\n",
    "df = pd.read_csv(root + \"df_cleaned.csv\")\n",
    "df.shape"
   ]
  },
  {
   "cell_type": "code",
   "execution_count": 670,
   "metadata": {},
   "outputs": [
    {
     "data": {
      "text/html": [
       "<div>\n",
       "<style scoped>\n",
       "    .dataframe tbody tr th:only-of-type {\n",
       "        vertical-align: middle;\n",
       "    }\n",
       "\n",
       "    .dataframe tbody tr th {\n",
       "        vertical-align: top;\n",
       "    }\n",
       "\n",
       "    .dataframe thead th {\n",
       "        text-align: right;\n",
       "    }\n",
       "</style>\n",
       "<table border=\"1\" class=\"dataframe\">\n",
       "  <thead>\n",
       "    <tr style=\"text-align: right;\">\n",
       "      <th></th>\n",
       "      <th>customer_id</th>\n",
       "      <th>customer_city</th>\n",
       "      <th>order_purchase_timestamp</th>\n",
       "      <th>product_id</th>\n",
       "      <th>product_weight_g</th>\n",
       "      <th>purchase</th>\n",
       "    </tr>\n",
       "  </thead>\n",
       "  <tbody>\n",
       "    <tr>\n",
       "      <th>0</th>\n",
       "      <td>50044</td>\n",
       "      <td>1379</td>\n",
       "      <td>2017-05-16 15:05:35</td>\n",
       "      <td>21694</td>\n",
       "      <td>8683.0</td>\n",
       "      <td>1</td>\n",
       "    </tr>\n",
       "    <tr>\n",
       "      <th>1</th>\n",
       "      <td>15329</td>\n",
       "      <td>3420</td>\n",
       "      <td>2018-01-12 20:48:24</td>\n",
       "      <td>9721</td>\n",
       "      <td>10150.0</td>\n",
       "      <td>1</td>\n",
       "    </tr>\n",
       "    <tr>\n",
       "      <th>2</th>\n",
       "      <td>2253</td>\n",
       "      <td>3588</td>\n",
       "      <td>2018-05-19 16:07:45</td>\n",
       "      <td>24283</td>\n",
       "      <td>8267.0</td>\n",
       "      <td>1</td>\n",
       "    </tr>\n",
       "    <tr>\n",
       "      <th>3</th>\n",
       "      <td>14097</td>\n",
       "      <td>2336</td>\n",
       "      <td>2018-03-13 16:06:38</td>\n",
       "      <td>21209</td>\n",
       "      <td>12160.0</td>\n",
       "      <td>1</td>\n",
       "    </tr>\n",
       "    <tr>\n",
       "      <th>4</th>\n",
       "      <td>19599</td>\n",
       "      <td>705</td>\n",
       "      <td>2018-07-29 09:51:30</td>\n",
       "      <td>18959</td>\n",
       "      <td>5200.0</td>\n",
       "      <td>1</td>\n",
       "    </tr>\n",
       "  </tbody>\n",
       "</table>\n",
       "</div>"
      ],
      "text/plain": [
       "   customer_id  customer_city order_purchase_timestamp  product_id  \\\n",
       "0        50044           1379      2017-05-16 15:05:35       21694   \n",
       "1        15329           3420      2018-01-12 20:48:24        9721   \n",
       "2         2253           3588      2018-05-19 16:07:45       24283   \n",
       "3        14097           2336      2018-03-13 16:06:38       21209   \n",
       "4        19599            705      2018-07-29 09:51:30       18959   \n",
       "\n",
       "   product_weight_g  purchase  \n",
       "0            8683.0         1  \n",
       "1           10150.0         1  \n",
       "2            8267.0         1  \n",
       "3           12160.0         1  \n",
       "4            5200.0         1  "
      ]
     },
     "execution_count": 670,
     "metadata": {},
     "output_type": "execute_result"
    }
   ],
   "source": [
    "df.head()"
   ]
  },
  {
   "cell_type": "markdown",
   "metadata": {},
   "source": [
    "# Helper Functions"
   ]
  },
  {
   "cell_type": "code",
   "execution_count": 671,
   "metadata": {},
   "outputs": [],
   "source": [
    "def sparsity(user_id: pd.Series, item_id: pd.Series, decimal: int):\n",
    "    \"\"\"\n",
    "    Calculate sparsity (%) of a dataframe\n",
    "\n",
    "    Parameters\n",
    "    ----------\n",
    "    user_id, item_id: pd.Series\n",
    "        The series of user and item IDs\n",
    "    df : dataframe\n",
    "        The dataframe to be cleaned\n",
    "    decimal : int\n",
    "        The number of decimal place to be displaced\n",
    "    \"\"\"\n",
    "\n",
    "    # calculate number of users and items\n",
    "    n_users = user_id.nunique()\n",
    "    n_items = item_id.nunique()\n",
    "    print(f\"Number of customers: {n_users}\")\n",
    "    print(f\"Number of products: {n_items}\")\n",
    "\n",
    "    # calculate sparsity (%)\n",
    "    sparsity = round(1 - len(df) / (n_users * n_items), decimal)\n",
    "    print(f\"The sparsity level of the original df is {sparsity*100}%\")\n",
    "\n",
    "\n",
    "def rank_product_count(item: pd.Series) -> pd.DataFrame:\n",
    "    \"\"\"\n",
    "    Count and rank number of purchase of each product\n",
    "\n",
    "    Parameters\n",
    "    ----------\n",
    "    item: pd.Series\n",
    "        The series of item IDs\n",
    "\n",
    "    Returns\n",
    "    -------\n",
    "    dataframe\n",
    "        A dataframe contain number of purchase of each product in desceding order\n",
    "    \"\"\"\n",
    "\n",
    "    # count and rank products\n",
    "    df = item.value_counts().reset_index()\n",
    "    # rename columns\n",
    "    df.columns = [df.columns[1], \"counts\"]\n",
    "    return df\n",
    "\n",
    "\n",
    "def plot_pdt_counts(item: pd.Series, cutoff: float, xlim: int = None):\n",
    "    \"\"\"\n",
    "    Plot distribution of product counts and indicate head and tail of the distribution.\n",
    "\n",
    "    Parameters\n",
    "    ----------\n",
    "    item: pd.Series\n",
    "        The series of item IDs\n",
    "    cutoff : float\n",
    "        Indicate the position of the cutoff vertical line to indicate head/tail cutoff position.\n",
    "    xlim : int\n",
    "        Indicate the x-axis limite to be plotted\n",
    "    \"\"\"\n",
    "    # count number of product purchase and its cumulative ratio\n",
    "    df = rank_product_count(item)\n",
    "    df[\"counts_ratio\"] = df.counts.cumsum() / df.counts.sum()\n",
    "\n",
    "    # plot product counts\n",
    "    plt.plot(df.counts)\n",
    "\n",
    "    # plot vertical cutoff line\n",
    "    head = df[df.counts_ratio <= cutoff]\n",
    "    tail = df[df.counts_ratio > cutoff]\n",
    "    n_head = len(head)\n",
    "    n_tail = len(tail)\n",
    "    plt.axvline(x=n_head, color=\"r\", linestyle=\"--\")\n",
    "\n",
    "    # fill area\n",
    "    x1 = head.index.values\n",
    "    y1 = head.counts\n",
    "    x2 = tail.index.values\n",
    "    y2 = tail.counts\n",
    "    plt.fill_between(x1, y1, color=\"blue\", alpha=0.3)\n",
    "    plt.fill_between(x2, y2, color=\"grey\", alpha=0.3)\n",
    "\n",
    "    # set labels\n",
    "    plt.title(\"Product Counts Plot\")\n",
    "    plt.ylabel(\"# of Purchase\")\n",
    "    plt.xlabel(\"# of Product\")\n",
    "    if not xlim:\n",
    "        xlim = len(df)\n",
    "    plt.xlim(0, xlim)\n",
    "\n",
    "    plt.show()"
   ]
  },
  {
   "cell_type": "markdown",
   "metadata": {},
   "source": [
    "# Data Analysis"
   ]
  },
  {
   "cell_type": "code",
   "execution_count": 557,
   "metadata": {},
   "outputs": [
    {
     "name": "stdout",
     "output_type": "stream",
     "text": [
      "Number of customers: 95420\n",
      "Number of products: 32951\n",
      "The sparsity level of the original df is 99.9964%\n"
     ]
    }
   ],
   "source": [
    "# check sparsity\n",
    "sparsity(df.customer_id, df.product_id, 6)"
   ]
  },
  {
   "cell_type": "code",
   "execution_count": 558,
   "metadata": {},
   "outputs": [
    {
     "data": {
      "image/png": "[encoded data removed]",
      "text/plain": [
       "<Figure size 432x288 with 1 Axes>"
      ]
     },
     "metadata": {},
     "output_type": "display_data"
    }
   ],
   "source": [
    "# plot purchase number of each product\n",
    "plot_pdt_counts(df.product_id, cutoff=0.1)"
   ]
  },
  {
   "cell_type": "code",
   "execution_count": 623,
   "metadata": {},
   "outputs": [
    {
     "data": {
      "image/png": "[encoded data removed]",
      "text/plain": [
       "<Figure size 432x288 with 1 Axes>"
      ]
     },
     "metadata": {},
     "output_type": "display_data"
    }
   ],
   "source": [
    "# plot purchase number of each product (zoom in)\n",
    "plot_pdt_counts(df.product_id, cutoff=0.1, xlim=1500)"
   ]
  },
  {
   "cell_type": "markdown",
   "metadata": {},
   "source": [
    "# Train Test Split"
   ]
  },
  {
   "cell_type": "code",
   "execution_count": 674,
   "metadata": {},
   "outputs": [],
   "source": [
    "# convert 'order_purchase_timestamp' to datetime\n",
    "df[\"order_purchase_timestamp\"] = pd.to_datetime(df[\"order_purchase_timestamp\"])"
   ]
  },
  {
   "cell_type": "code",
   "execution_count": 675,
   "metadata": {},
   "outputs": [],
   "source": [
    "def split_train_test(df: pd.DataFrame, user: str, time: str) -> Union[pd.DataFrame]:\n",
    "    \"\"\"\n",
    "    create train and test set using leave one out method\n",
    "\n",
    "    Parameters\n",
    "    ----------\n",
    "    df: pd.DataFrame\n",
    "        The dataframe to be splitted\n",
    "    user, time: str\n",
    "        The column name of the user IDs and timestamp\n",
    "\n",
    "    Returns\n",
    "    -------\n",
    "    dataframes\n",
    "        train and test dataframes\n",
    "    \"\"\"\n",
    "\n",
    "    # leave one out\n",
    "    df[\"rank_latest\"] = df.groupby([user])[time].rank(method=\"first\", ascending=False)\n",
    "\n",
    "    # filter latest purchase to create train and test set\n",
    "    train = df[df.rank_latest != 1]\n",
    "    test = df[df.rank_latest == 1]\n",
    "\n",
    "    # keep only useful columns\n",
    "    train.drop(columns=[time, \"rank_latest\"], inplace=True)\n",
    "    test.drop(columns=[time, \"rank_latest\"], inplace=True)\n",
    "\n",
    "    # print out the same of both sets\n",
    "    print(f\"Shape of the train set: {train.shape}\")\n",
    "    print(f\"Shape of the test set: {test.shape}\")\n",
    "\n",
    "    return train, test"
   ]
  },
  {
   "cell_type": "code",
   "execution_count": 676,
   "metadata": {
    "scrolled": true
   },
   "outputs": [
    {
     "name": "stdout",
     "output_type": "stream",
     "text": [
      "Shape of the train set: (17230, 5)\n",
      "Shape of the test set: (95420, 5)\n"
     ]
    }
   ],
   "source": [
    "# create train and test set\n",
    "df_train, df_test = split_train_test(\n",
    "    df, user=\"customer_id\", time=\"order_purchase_timestamp\"\n",
    ")"
   ]
  },
  {
   "cell_type": "code",
   "execution_count": 677,
   "metadata": {},
   "outputs": [
    {
     "name": "stdout",
     "output_type": "stream",
     "text": [
      "Number of common users: 11869\n"
     ]
    }
   ],
   "source": [
    "# calcaulte the number of users who bought more than once\n",
    "print(\n",
    "    f\"Number of common users: {len(set(df_train.customer_id).intersection(df_test.customer_id))}\"\n",
    ")"
   ]
  },
  {
   "cell_type": "markdown",
   "metadata": {},
   "source": [
    "# Define PyTorch Dataset"
   ]
  },
  {
   "cell_type": "code",
   "execution_count": 606,
   "metadata": {},
   "outputs": [],
   "source": [
    "class BuildDataset(Dataset):\n",
    "    \"\"\"\n",
    "    Build PyTorch Dataset for Training\n",
    "\n",
    "    Parameters\n",
    "    ----------\n",
    "    df: pd.DataFrame\n",
    "        The dataframe to be used building the dataset\n",
    "    all_item_ids: list\n",
    "        List containing all item IDs\n",
    "\n",
    "    \"\"\"\n",
    "\n",
    "    def __init__(self, df: pd.DataFrame, all_item_ids: list):\n",
    "        \"\"\"\n",
    "        Balance and initialize the training data and labels\n",
    "        \"\"\"\n",
    "        (\n",
    "            self.users,\n",
    "            self.cities,\n",
    "            self.items,\n",
    "            self.weights,\n",
    "            self.labels,\n",
    "        ) = self.generate_neg(df, all_item_ids)\n",
    "\n",
    "    def __len__(self):\n",
    "        \"\"\"\n",
    "        Returns the number of samples in the training data\n",
    "        \"\"\"\n",
    "        return len(self.users)\n",
    "\n",
    "    def __getitem__(self, idx):\n",
    "        \"\"\"\n",
    "        Loads and returns a sample from the dataset with the given index.\n",
    "        \"\"\"\n",
    "        # user data\n",
    "        uid = self.users[idx]\n",
    "        city = self.cities[idx]\n",
    "\n",
    "        # item data\n",
    "        iid = self.items[idx]\n",
    "        weight = self.weights[idx]\n",
    "\n",
    "        sample = {\n",
    "            \"user_inputs\": {\"uid\": uid, \"city\": city},\n",
    "            \"item_inputs\": {\"iid\": iid, \"weight\": weight},\n",
    "            \"labels\": self.labels[idx],\n",
    "        }\n",
    "\n",
    "        return sample\n",
    "\n",
    "    def generate_neg(self, df: pd.DataFrame, all_item_ids: list):\n",
    "        \"\"\"\n",
    "        Generate 4 random negative interactions for\n",
    "        every purchase (positive interaction)\n",
    "        \"\"\"\n",
    "\n",
    "        # training data placeholders\n",
    "        users, cities, items, weights, labels = [], [], [], [], []\n",
    "\n",
    "        # user-item interaction set that contains items that each user has interaction with\n",
    "        user_item_set = set(zip(df[\"customer_id\"], df[\"product_id\"]))\n",
    "\n",
    "        # 4:1 ratio of negative to positive samples\n",
    "        num_neg = 4  # can be tuned\n",
    "        for user, pos_item in user_item_set:\n",
    "\n",
    "            # postive interactions\n",
    "            users.append(user)\n",
    "            cities.append(df[\"customer_city\"][df[\"customer_id\"] == user].iloc[0])\n",
    "            items.append(pos_item)\n",
    "            weights.append(df[\"product_weight_g\"][df[\"product_id\"] == pos_item].iloc[0])\n",
    "            labels.append(1)  # items that the user has interacted with are positive\n",
    "\n",
    "            # negative interactions\n",
    "            for _ in range(num_neg):\n",
    "\n",
    "                # randomly select an item\n",
    "                neg_item = np.random.choice(all_item_ids)\n",
    "                # check that the user has not interacted with this item\n",
    "                while (user, neg_item) in user_item_set:\n",
    "                    neg_item = np.random.choice(all_item_ids)\n",
    "\n",
    "                # append results\n",
    "                users.append(user)\n",
    "                cities.append(df[\"customer_city\"][df[\"customer_id\"] == user].iloc[0])\n",
    "                items.append(neg_item)\n",
    "                weight_neg = df[\"product_weight_g\"][df[\"product_id\"] == neg_item]\n",
    "                if len(weight_neg) > 1:\n",
    "                    weights.append(weight_neg.iloc[0])\n",
    "                else:\n",
    "                    weights.append(weight_neg.item())\n",
    "                labels.append(0)  # items not interacted with are negative\n",
    "\n",
    "        return (\n",
    "            torch.tensor(users),\n",
    "            torch.tensor(cities),\n",
    "            torch.tensor(items),\n",
    "            torch.tensor(weights),\n",
    "            torch.tensor(labels),\n",
    "        )"
   ]
  },
  {
   "cell_type": "markdown",
   "metadata": {},
   "source": [
    "# Define NCF Model"
   ]
  },
  {
   "cell_type": "code",
   "execution_count": 575,
   "metadata": {},
   "outputs": [],
   "source": [
    "class TQDMProgressBar(TQDMProgressBar):\n",
    "    def init_train_tqdm(self):\n",
    "        bar = super().init_train_tqdm()\n",
    "        bar.refresh_rate = 50\n",
    "        return bar"
   ]
  },
  {
   "cell_type": "markdown",
   "metadata": {},
   "source": [
    "## Simple NCF"
   ]
  },
  {
   "cell_type": "code",
   "execution_count": 774,
   "metadata": {},
   "outputs": [],
   "source": [
    "class NCF_simple(pl.LightningModule):\n",
    "    \"\"\"\n",
    "    Neural Collaborative Filtering (NCF) -- Simple version\n",
    "    Only embed user and item IDs\n",
    "\n",
    "    Parameters\n",
    "    ----------\n",
    "    attribute_max: dict\n",
    "        Dictionary containing the maximum value of each attribute (feature)\n",
    "    df: pd.DataFrame\n",
    "        The dataframe to be used to train the model\n",
    "        The dataframe containing the movie df\n",
    "    all_item_ids: list\n",
    "        List containing all item IDs\n",
    "    embed_dim: int (Default is 8)\n",
    "        Dimension of the embedding layer\n",
    "\n",
    "    \"\"\"\n",
    "\n",
    "    def __init__(\n",
    "        self,\n",
    "        attribute_max: dict,\n",
    "        df: pd.DataFrame,\n",
    "        all_item_ids: list,\n",
    "        embed_dim: int = 8,\n",
    "    ):\n",
    "        super(NCF_simple, self).__init__()\n",
    "\n",
    "        # user embeddings\n",
    "        self.embedding_uid = nn.Embedding(\n",
    "            num_embeddings=attribute_max[\"uid\"], embedding_dim=embed_dim\n",
    "        )\n",
    "        # item embeddings\n",
    "        self.embedding_iid = nn.Embedding(\n",
    "            num_embeddings=attribute_max[\"iid\"], embedding_dim=embed_dim\n",
    "        )\n",
    "\n",
    "        # dense layer\n",
    "        self.fc1 = nn.Linear(in_features=embed_dim*2, out_features=64)\n",
    "        self.fc2 = nn.Linear(in_features=64, out_features=32)\n",
    "        self.output = nn.Linear(in_features=32, out_features=1)\n",
    "\n",
    "        # BatchNorm layer\n",
    "        self.BN = nn.BatchNorm1d(64)\n",
    "\n",
    "        self.df = df\n",
    "        self.all_item_ids = all_item_ids\n",
    "\n",
    "    def forward(self, train_user, train_item):\n",
    "\n",
    "        # unpack train_data\n",
    "        uid = train_user[\"uid\"]\n",
    "        city = train_user[\"city\"]\n",
    "\n",
    "        iid = train_item[\"iid\"]\n",
    "        weight = train_item[\"weight\"]\n",
    "\n",
    "        # Pass through embedding layers\n",
    "        user_embedded = self.embedding_uid(uid)\n",
    "        item_embedded = self.embedding_iid(iid)\n",
    "\n",
    "        # Concat the two embedding layers\n",
    "        x = torch.cat([user_embedded, item_embedded], dim=-1)\n",
    "\n",
    "        # Pass through dense layer\n",
    "        x = nn.ReLU()(self.fc1(x))\n",
    "        x = self.BN(x)\n",
    "        x = nn.ReLU()(self.fc2(x))\n",
    "\n",
    "        # Output layer\n",
    "        pred = nn.Sigmoid()(self.output(x))\n",
    "\n",
    "        return pred\n",
    "\n",
    "    def training_step(self, batch, batch_idx):\n",
    "        predicted_labels = self(batch[\"user_inputs\"], batch[\"item_inputs\"])\n",
    "        loss = nn.BCELoss()(predicted_labels, batch[\"labels\"].view(-1, 1).float())\n",
    "        return loss\n",
    "\n",
    "    def configure_optimizers(self):\n",
    "        return torch.optim.Adam(self.parameters())\n",
    "\n",
    "    def train_dataloader(self):\n",
    "        return DataLoader(\n",
    "            BuildDataset(self.df, self.all_item_ids),\n",
    "            batch_size=512,\n",
    "            num_workers=4,\n",
    "        )"
   ]
  },
  {
   "cell_type": "markdown",
   "metadata": {},
   "source": [
    "## Upgrade NCF"
   ]
  },
  {
   "cell_type": "code",
   "execution_count": 642,
   "metadata": {},
   "outputs": [],
   "source": [
    "class NCF(pl.LightningModule):\n",
    "    \"\"\"\n",
    "    Neural Collaborative Filtering (NCF) -- Upgrade version\n",
    "    Embed user and item IDs and 2 more features\n",
    "\n",
    "    Parameters\n",
    "    ----------\n",
    "    attribute_max: dict\n",
    "        Dictionary containing the maximum value of each attribute (feature)\n",
    "    df: pd.DataFrame\n",
    "        The dataframe to be used to train the model\n",
    "        The dataframe containing the movie df\n",
    "    all_item_ids: list\n",
    "        List containing all item IDs\n",
    "    embed_dim: int (Default is 8)\n",
    "        Dimension of the embedding layer\n",
    "\n",
    "    \"\"\"\n",
    "\n",
    "    def __init__(\n",
    "        self,\n",
    "        attribute_max: dict,\n",
    "        df: pd.DataFrame,\n",
    "        all_item_ids: list,\n",
    "        embed_dim: int = 8,\n",
    "    ):\n",
    "        super(NCF, self).__init__()\n",
    "\n",
    "        # user embeddings\n",
    "        self.embedding_uid = nn.Embedding(\n",
    "            num_embeddings=attribute_max[\"uid\"], embedding_dim=embed_dim\n",
    "        )\n",
    "        self.embedding_city = nn.Embedding(\n",
    "            num_embeddings=attribute_max[\"city\"], embedding_dim=embed_dim\n",
    "        )\n",
    "\n",
    "        # item embeddings\n",
    "        self.embedding_iid = nn.Embedding(\n",
    "            num_embeddings=attribute_max[\"iid\"], embedding_dim=embed_dim\n",
    "        )\n",
    "        self.embedding_weight = nn.Embedding(\n",
    "            num_embeddings=attribute_max[\"weight\"], embedding_dim=embed_dim\n",
    "        )\n",
    "\n",
    "        # dense layer\n",
    "        self.fc1 = nn.Linear(in_features=embed_dim*4, out_features=64)\n",
    "        self.fc2 = nn.Linear(in_features=64, out_features=32)\n",
    "        self.output = nn.Linear(in_features=32, out_features=1)\n",
    "\n",
    "        # BatchNorm layer\n",
    "        self.BN = nn.BatchNorm1d(64)\n",
    "\n",
    "        self.df = df\n",
    "        self.all_item_ids = all_item_ids\n",
    "\n",
    "    def forward(self, train_user, train_item):\n",
    "\n",
    "        # unpack train_data\n",
    "        uid = train_user[\"uid\"]\n",
    "        city = train_user[\"city\"]\n",
    "\n",
    "        iid = train_item[\"iid\"]\n",
    "        weight = train_item[\"weight\"]\n",
    "\n",
    "        # Pass through embedding layers\n",
    "        user_embedded = self.embedding_uid(uid)\n",
    "        city_embedded = self.embedding_city(city)\n",
    "        item_embedded = self.embedding_iid(iid)\n",
    "        weight_embedded = self.embedding_weight(weight.detach().clone().long())\n",
    "\n",
    "        # Concat the two embedding layers\n",
    "        x = torch.cat(\n",
    "            [user_embedded, city_embedded, item_embedded, weight_embedded], dim=-1\n",
    "        )\n",
    "\n",
    "        # Pass through dense layer\n",
    "        x = nn.ReLU()(self.fc1(x))\n",
    "        x = self.BN(x)\n",
    "        x = nn.ReLU()(self.fc2(x))\n",
    "\n",
    "        # Output layer\n",
    "        pred = nn.Sigmoid()(self.output(x))\n",
    "\n",
    "        return pred\n",
    "\n",
    "    def training_step(self, batch, batch_idx):\n",
    "        predicted_labels = self(batch[\"user_inputs\"], batch[\"item_inputs\"])\n",
    "        loss = nn.BCELoss()(predicted_labels, batch[\"labels\"].view(-1, 1).float())\n",
    "        return loss\n",
    "\n",
    "    def configure_optimizers(self):\n",
    "        return torch.optim.Adam(self.parameters())\n",
    "\n",
    "    def train_dataloader(self):\n",
    "        return DataLoader(\n",
    "            BuildDataset(self.df, self.all_item_ids),\n",
    "            batch_size=512,\n",
    "            num_workers=4,\n",
    "        )"
   ]
  },
  {
   "cell_type": "markdown",
   "metadata": {},
   "source": [
    "# Run and inference simple NCF model"
   ]
  },
  {
   "cell_type": "code",
   "execution_count": 792,
   "metadata": {},
   "outputs": [],
   "source": [
    "# initialize metrics\n",
    "MAP = RetrievalMAP()\n",
    "MRR = RetrievalMRR()\n",
    "precision = RetrievalPrecision(k=10)\n",
    "recall = RetrievalRecall(k=10)"
   ]
  },
  {
   "cell_type": "markdown",
   "metadata": {},
   "source": [
    "## Simple NCF"
   ]
  },
  {
   "cell_type": "code",
   "execution_count": 647,
   "metadata": {
    "scrolled": true
   },
   "outputs": [
    {
     "name": "stderr",
     "output_type": "stream",
     "text": [
      "GPU available: False, used: False\n",
      "TPU available: False, using: 0 TPU cores\n",
      "IPU available: False, using: 0 IPUs\n",
      "\n",
      "  | Name          | Type        | Params\n",
      "----------------------------------------------\n",
      "0 | embedding_uid | Embedding   | 763 K \n",
      "1 | embedding_iid | Embedding   | 263 K \n",
      "2 | fc1           | Linear      | 1.1 K \n",
      "3 | fc2           | Linear      | 2.1 K \n",
      "4 | output        | Linear      | 33    \n",
      "5 | BN            | BatchNorm1d | 128   \n",
      "----------------------------------------------\n",
      "1.0 M     Trainable params\n",
      "0         Non-trainable params\n",
      "1.0 M     Total params\n",
      "4.121     Total estimated model params size (MB)\n"
     ]
    },
    {
     "data": {
      "application/vnd.jupyter.widget-view+json": {
       "model_id": "975514a38ce14bc2b63a6fc66d65b74c"
      }
     },
     "metadata": {},
     "output_type": "display_data"
    },
    {
     "name": "stdout",
     "output_type": "stream",
     "text": [
      "\n"
     ]
    }
   ],
   "source": [
    "# get maximum value of each attribute\n",
    "attribute_max = {\n",
    "    \"uid\": df.customer_id.max() + 1,\n",
    "    \"city\": df.customer_city.max() + 1,\n",
    "    \"iid\": df.product_id.max() + 1,\n",
    "    \"weight\": int(df.product_weight_g.max()) + 1,\n",
    "}\n",
    "\n",
    "# get a list of all item IDs\n",
    "all_item_ids = df_train.product_id.unique()\n",
    "\n",
    "# initilize model and Trainer\n",
    "model_simple = NCF_simple(attribute_max, df_train, all_item_ids)\n",
    "trainer_simple = pl.Trainer(\n",
    "    max_epochs=1,\n",
    "    gpus=None,\n",
    "    reload_dataloaders_every_n_epochs=1,\n",
    "    logger=False,\n",
    "    callbacks=[TQDMProgressBar()],\n",
    "    enable_checkpointing=False,\n",
    ")\n",
    "\n",
    "# train model\n",
    "trainer_simple.fit(model_simple)"
   ]
  },
  {
   "cell_type": "code",
   "execution_count": 776,
   "metadata": {
    "scrolled": false
   },
   "outputs": [],
   "source": [
    "def inference_result(model, test_cust_item_set: set, cust_interacted_items: list) -> dict:\n",
    "    \"\"\"\n",
    "\n",
    "    Parameters\n",
    "    ----------\n",
    "    model\n",
    "        Trained model used for inference\n",
    "    test_cust_item_set: set\n",
    "        Set containing cust-item pairs for testing\n",
    "    cust_interacted_items: list\n",
    "        Dictionary of all items that are interacted with by each customer\n",
    "\n",
    "    Returns\n",
    "    -------\n",
    "    dictionary\n",
    "        contaning different metrics\n",
    "    \"\"\"\n",
    "\n",
    "    # declare variables\n",
    "    preds = []\n",
    "    target = []\n",
    "    indexes = []\n",
    "    count = 0\n",
    "\n",
    "    for (u, c, i, w) in test_cust_item_set:\n",
    "\n",
    "        # for each customer, randomly select 99 items that the customer has not interacted with.\n",
    "        interacted_items = cust_interacted_items[u]\n",
    "        not_interacted_items = set(all_item_ids) - set(interacted_items)\n",
    "        selected_not_interacted = list(\n",
    "            np.random.choice(list(not_interacted_items), 99, replace=False)\n",
    "        )\n",
    "\n",
    "        # Combine these 99 items with the test item: the actual item that the customer last interacted with.\n",
    "        # The final test item list has 100 items\n",
    "        test_items = selected_not_interacted + [i]\n",
    "        test_weights = df[[\"product_id\", \"product_weight_g\"]][\n",
    "            df.product_id.isin(selected_not_interacted)\n",
    "        ].drop_duplicates(subset=[\"product_id\"])[\"product_weight_g\"].to_list() + [w]\n",
    "\n",
    "        test_user = {\"uid\": torch.tensor([u] * 100), \"city\": torch.tensor([c] * 100)}\n",
    "        test_item = {\n",
    "            \"iid\": torch.tensor(test_items),\n",
    "            \"weight\": torch.tensor(test_weights),\n",
    "        }\n",
    "\n",
    "        # run the model on these 100 items\n",
    "        predicted_labels = np.squeeze(model(test_user, test_item).detach().numpy())\n",
    "\n",
    "        # save results\n",
    "        preds.append(predicted_labels)\n",
    "        target.append(np.concatenate((np.zeros(99), (1,))))\n",
    "        indexes.append(np.array([count] * 100))\n",
    "\n",
    "    # calculate metrics\n",
    "    preds = torch.tensor(preds).ravel()\n",
    "    target = torch.tensor(target).ravel()\n",
    "    indexes = torch.tensor(indexes).ravel().long()\n",
    "\n",
    "    metrics = {\n",
    "        \"MP\": precision(preds=preds, target=target, indexes=indexes)\n",
    "        .detach()\n",
    "        .numpy()\n",
    "        .round(6),\n",
    "        \"MRR\": MRR(preds=preds, target=target, indexes=indexes)\n",
    "        .detach()\n",
    "        .numpy()\n",
    "        .round(6),\n",
    "        \"MRecall\": recall(preds=preds, target=target, indexes=indexes)\n",
    "        .detach()\n",
    "        .numpy()\n",
    "        .round(6),\n",
    "        \"MAP\": MAP(preds=preds, target=target, indexes=indexes)\n",
    "        .detach()\n",
    "        .numpy()\n",
    "        .round(6),\n",
    "    }\n",
    "    return metrics"
   ]
  },
  {
   "cell_type": "code",
   "execution_count": 777,
   "metadata": {},
   "outputs": [],
   "source": [
    "NCF_simple_metrics = inference_result(model_simple, test_cust_item_set, cust_interacted_items)"
   ]
  },
  {
   "cell_type": "markdown",
   "metadata": {},
   "source": [
    "## Upgrade NCF"
   ]
  },
  {
   "cell_type": "code",
   "execution_count": 608,
   "metadata": {
    "scrolled": false
   },
   "outputs": [
    {
     "name": "stderr",
     "output_type": "stream",
     "text": [
      "GPU available: False, used: False\n",
      "TPU available: False, using: 0 TPU cores\n",
      "IPU available: False, using: 0 IPUs\n",
      "\n",
      "  | Name             | Type        | Params\n",
      "-------------------------------------------------\n",
      "0 | embedding_uid    | Embedding   | 763 K \n",
      "1 | embedding_city   | Embedding   | 32.9 K\n",
      "2 | embedding_iid    | Embedding   | 263 K \n",
      "3 | embedding_weight | Embedding   | 323 K \n",
      "4 | fc1              | Linear      | 2.1 K \n",
      "5 | fc2              | Linear      | 2.1 K \n",
      "6 | output           | Linear      | 33    \n",
      "7 | BN               | BatchNorm1d | 128   \n",
      "-------------------------------------------------\n",
      "1.4 M     Trainable params\n",
      "0         Non-trainable params\n",
      "1.4 M     Total params\n",
      "5.550     Total estimated model params size (MB)\n"
     ]
    },
    {
     "data": {
      "application/vnd.jupyter.widget-view+json": {
       "model_id": "818bf26619e14231b22a9cba8811040d"
      }
     },
     "metadata": {},
     "output_type": "display_data"
    },
    {
     "name": "stdout",
     "output_type": "stream",
     "text": [
      "\n"
     ]
    }
   ],
   "source": [
    "# initilize model and Trainer\n",
    "model = NCF(attribute_max, df_train, all_item_ids)\n",
    "trainer = pl.Trainer(\n",
    "    max_epochs=1,\n",
    "    gpus=None,\n",
    "    reload_dataloaders_every_n_epochs=1,\n",
    "    logger=False,\n",
    "    callbacks=[TQDMProgressBar()],\n",
    "    enable_checkpointing=False,\n",
    ")\n",
    "\n",
    "# train model\n",
    "trainer.fit(model)"
   ]
  },
  {
   "cell_type": "code",
   "execution_count": 777,
   "metadata": {},
   "outputs": [],
   "source": [
    "NCF_metrics = inference_result(model, test_cust_item_set, cust_interacted_items)"
   ]
  },
  {
   "cell_type": "markdown",
   "metadata": {},
   "source": [
    "# Compare Results"
   ]
  },
  {
   "cell_type": "code",
   "execution_count": 806,
   "metadata": {},
   "outputs": [
    {
     "data": {
      "text/html": [
       "<div>\n",
       "<style scoped>\n",
       "    .dataframe tbody tr th:only-of-type {\n",
       "        vertical-align: middle;\n",
       "    }\n",
       "\n",
       "    .dataframe tbody tr th {\n",
       "        vertical-align: top;\n",
       "    }\n",
       "\n",
       "    .dataframe thead th {\n",
       "        text-align: right;\n",
       "    }\n",
       "</style>\n",
       "<table border=\"1\" class=\"dataframe\">\n",
       "  <thead>\n",
       "    <tr style=\"text-align: right;\">\n",
       "      <th></th>\n",
       "      <th>MP</th>\n",
       "      <th>MRR</th>\n",
       "      <th>MRecall</th>\n",
       "      <th>MAP</th>\n",
       "    </tr>\n",
       "  </thead>\n",
       "  <tbody>\n",
       "    <tr>\n",
       "      <th>NCF_simple_metrics</th>\n",
       "      <td>0.000048</td>\n",
       "      <td>0.021845</td>\n",
       "      <td>0.000031</td>\n",
       "      <td>0.012949</td>\n",
       "    </tr>\n",
       "    <tr>\n",
       "      <th>NCF_metrics</th>\n",
       "      <td>0.000095</td>\n",
       "      <td>0.035910</td>\n",
       "      <td>0.000105</td>\n",
       "      <td>0.020011</td>\n",
       "    </tr>\n",
       "  </tbody>\n",
       "</table>\n",
       "</div>"
      ],
      "text/plain": [
       "                          MP       MRR   MRecall       MAP\n",
       "NCF_simple_metrics  0.000048  0.021845  0.000031  0.012949\n",
       "NCF_metrics         0.000095  0.035910  0.000105  0.020011"
      ]
     },
     "execution_count": 806,
     "metadata": {},
     "output_type": "execute_result"
    }
   ],
   "source": [
    "df_results = pd.read_csv(\"../model/colab/results.csv\", index_col=0)\n",
    "df_results"
   ]
  },
  {
   "cell_type": "code",
   "execution_count": 807,
   "metadata": {},
   "outputs": [],
   "source": [
    "# df_result = pd.DataFrame(\n",
    "#     [NCF_simple_metrics, NCF_metrics], index=[\"NCF_simple_metrics\", \"NCF_metrics\"]\n",
    "# )\n",
    "# df_result"
   ]
  },
  {
   "cell_type": "code",
   "execution_count": null,
   "metadata": {},
   "outputs": [],
   "source": []
  },
  {
   "cell_type": "code",
   "execution_count": null,
   "metadata": {},
   "outputs": [],
   "source": []
  },
  {
   "cell_type": "code",
   "execution_count": null,
   "metadata": {},
   "outputs": [],
   "source": []
  },
  {
   "cell_type": "code",
   "execution_count": null,
   "metadata": {},
   "outputs": [],
   "source": []
  },
  {
   "cell_type": "code",
   "execution_count": null,
   "metadata": {},
   "outputs": [],
   "source": []
  },
  {
   "cell_type": "code",
   "execution_count": null,
   "metadata": {},
   "outputs": [],
   "source": []
  }
 ],
 "metadata": {
  "kernelspec": {
   "display_name": "Python 3",
   "language": "python",
   "name": "python3"
  },
  "language_info": {
   "codemirror_mode": {
    "name": "ipython",
    "version": 3
   },
   "file_extension": ".py",
   "mimetype": "text/x-python",
   "name": "python",
   "nbconvert_exporter": "python",
   "pygments_lexer": "ipython3",
   "version": "3.6.9"
  },
  "toc": {
   "base_numbering": 1,
   "nav_menu": {},
   "number_sections": true,
   "sideBar": true,
   "skip_h1_title": false,
   "title_cell": "Table of Contents",
   "title_sidebar": "Contents",
   "toc_cell": false,
   "toc_position": {
    "height": "calc(100% - 180px)",
    "left": "10px",
    "top": "150px",
    "width": "209.56522607803345px"
   },
   "toc_section_display": true,
   "toc_window_display": false
  }
 },
 "nbformat": 4,
 "nbformat_minor": 2
}
